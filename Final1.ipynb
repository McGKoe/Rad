{
  "cells": [
    {
      "cell_type": "markdown",
      "metadata": {
        "id": "view-in-github",
        "colab_type": "text"
      },
      "source": [
        "<a href=\"https://colab.research.google.com/github/McGKoe/Rad/blob/main/Final1.ipynb\" target=\"_parent\"><img src=\"https://colab.research.google.com/assets/colab-badge.svg\" alt=\"Open In Colab\"/></a>"
      ]
    },
    {
      "cell_type": "code",
      "execution_count": 2,
      "metadata": {
        "id": "EipFaaaBabof"
      },
      "outputs": [],
      "source": [
        "import io\n",
        "import os\n",
        "from google.colab import files\n",
        "from collections import  Counter\n",
        "import glob\n",
        "import pandas as pd\n",
        "from sklearn.manifold import TSNE\n",
        "import numpy as np\n",
        "import matplotlib.pyplot as plt\n",
        "import sklearn as sk\n",
        "from sklearn.feature_extraction.text import TfidfVectorizer\n",
        "from sklearn import feature_extraction\n",
        "from sklearn.model_selection import train_test_split, GridSearchCV\n",
        "from sklearn.linear_model import LogisticRegression\n",
        "from sklearn.metrics import classification_report, confusion_matrix, accuracy_score\n",
        "from scipy.sparse import hstack\n",
        "from time import time"
      ]
    },
    {
      "cell_type": "code",
      "source": [
        "import warnings\n",
        "warnings.filterwarnings('ignore')"
      ],
      "metadata": {
        "id": "govMPRykkKBd"
      },
      "execution_count": 3,
      "outputs": []
    },
    {
      "cell_type": "code",
      "execution_count": 4,
      "metadata": {
        "colab": {
          "base_uri": "https://localhost:8080/",
          "height": 74
        },
        "id": "lLAwdhs0aTgz",
        "outputId": "3b87b271-7bb1-4a7c-88b1-9c54fdc48b37"
      },
      "outputs": [
        {
          "output_type": "display_data",
          "data": {
            "text/plain": [
              "<IPython.core.display.HTML object>"
            ],
            "text/html": [
              "\n",
              "     <input type=\"file\" id=\"files-5a9287c5-b1b4-4628-a417-4fbb32201de0\" name=\"files[]\" multiple disabled\n",
              "        style=\"border:none\" />\n",
              "     <output id=\"result-5a9287c5-b1b4-4628-a417-4fbb32201de0\">\n",
              "      Upload widget is only available when the cell has been executed in the\n",
              "      current browser session. Please rerun this cell to enable.\n",
              "      </output>\n",
              "      <script>// Copyright 2017 Google LLC\n",
              "//\n",
              "// Licensed under the Apache License, Version 2.0 (the \"License\");\n",
              "// you may not use this file except in compliance with the License.\n",
              "// You may obtain a copy of the License at\n",
              "//\n",
              "//      http://www.apache.org/licenses/LICENSE-2.0\n",
              "//\n",
              "// Unless required by applicable law or agreed to in writing, software\n",
              "// distributed under the License is distributed on an \"AS IS\" BASIS,\n",
              "// WITHOUT WARRANTIES OR CONDITIONS OF ANY KIND, either express or implied.\n",
              "// See the License for the specific language governing permissions and\n",
              "// limitations under the License.\n",
              "\n",
              "/**\n",
              " * @fileoverview Helpers for google.colab Python module.\n",
              " */\n",
              "(function(scope) {\n",
              "function span(text, styleAttributes = {}) {\n",
              "  const element = document.createElement('span');\n",
              "  element.textContent = text;\n",
              "  for (const key of Object.keys(styleAttributes)) {\n",
              "    element.style[key] = styleAttributes[key];\n",
              "  }\n",
              "  return element;\n",
              "}\n",
              "\n",
              "// Max number of bytes which will be uploaded at a time.\n",
              "const MAX_PAYLOAD_SIZE = 100 * 1024;\n",
              "\n",
              "function _uploadFiles(inputId, outputId) {\n",
              "  const steps = uploadFilesStep(inputId, outputId);\n",
              "  const outputElement = document.getElementById(outputId);\n",
              "  // Cache steps on the outputElement to make it available for the next call\n",
              "  // to uploadFilesContinue from Python.\n",
              "  outputElement.steps = steps;\n",
              "\n",
              "  return _uploadFilesContinue(outputId);\n",
              "}\n",
              "\n",
              "// This is roughly an async generator (not supported in the browser yet),\n",
              "// where there are multiple asynchronous steps and the Python side is going\n",
              "// to poll for completion of each step.\n",
              "// This uses a Promise to block the python side on completion of each step,\n",
              "// then passes the result of the previous step as the input to the next step.\n",
              "function _uploadFilesContinue(outputId) {\n",
              "  const outputElement = document.getElementById(outputId);\n",
              "  const steps = outputElement.steps;\n",
              "\n",
              "  const next = steps.next(outputElement.lastPromiseValue);\n",
              "  return Promise.resolve(next.value.promise).then((value) => {\n",
              "    // Cache the last promise value to make it available to the next\n",
              "    // step of the generator.\n",
              "    outputElement.lastPromiseValue = value;\n",
              "    return next.value.response;\n",
              "  });\n",
              "}\n",
              "\n",
              "/**\n",
              " * Generator function which is called between each async step of the upload\n",
              " * process.\n",
              " * @param {string} inputId Element ID of the input file picker element.\n",
              " * @param {string} outputId Element ID of the output display.\n",
              " * @return {!Iterable<!Object>} Iterable of next steps.\n",
              " */\n",
              "function* uploadFilesStep(inputId, outputId) {\n",
              "  const inputElement = document.getElementById(inputId);\n",
              "  inputElement.disabled = false;\n",
              "\n",
              "  const outputElement = document.getElementById(outputId);\n",
              "  outputElement.innerHTML = '';\n",
              "\n",
              "  const pickedPromise = new Promise((resolve) => {\n",
              "    inputElement.addEventListener('change', (e) => {\n",
              "      resolve(e.target.files);\n",
              "    });\n",
              "  });\n",
              "\n",
              "  const cancel = document.createElement('button');\n",
              "  inputElement.parentElement.appendChild(cancel);\n",
              "  cancel.textContent = 'Cancel upload';\n",
              "  const cancelPromise = new Promise((resolve) => {\n",
              "    cancel.onclick = () => {\n",
              "      resolve(null);\n",
              "    };\n",
              "  });\n",
              "\n",
              "  // Wait for the user to pick the files.\n",
              "  const files = yield {\n",
              "    promise: Promise.race([pickedPromise, cancelPromise]),\n",
              "    response: {\n",
              "      action: 'starting',\n",
              "    }\n",
              "  };\n",
              "\n",
              "  cancel.remove();\n",
              "\n",
              "  // Disable the input element since further picks are not allowed.\n",
              "  inputElement.disabled = true;\n",
              "\n",
              "  if (!files) {\n",
              "    return {\n",
              "      response: {\n",
              "        action: 'complete',\n",
              "      }\n",
              "    };\n",
              "  }\n",
              "\n",
              "  for (const file of files) {\n",
              "    const li = document.createElement('li');\n",
              "    li.append(span(file.name, {fontWeight: 'bold'}));\n",
              "    li.append(span(\n",
              "        `(${file.type || 'n/a'}) - ${file.size} bytes, ` +\n",
              "        `last modified: ${\n",
              "            file.lastModifiedDate ? file.lastModifiedDate.toLocaleDateString() :\n",
              "                                    'n/a'} - `));\n",
              "    const percent = span('0% done');\n",
              "    li.appendChild(percent);\n",
              "\n",
              "    outputElement.appendChild(li);\n",
              "\n",
              "    const fileDataPromise = new Promise((resolve) => {\n",
              "      const reader = new FileReader();\n",
              "      reader.onload = (e) => {\n",
              "        resolve(e.target.result);\n",
              "      };\n",
              "      reader.readAsArrayBuffer(file);\n",
              "    });\n",
              "    // Wait for the data to be ready.\n",
              "    let fileData = yield {\n",
              "      promise: fileDataPromise,\n",
              "      response: {\n",
              "        action: 'continue',\n",
              "      }\n",
              "    };\n",
              "\n",
              "    // Use a chunked sending to avoid message size limits. See b/62115660.\n",
              "    let position = 0;\n",
              "    do {\n",
              "      const length = Math.min(fileData.byteLength - position, MAX_PAYLOAD_SIZE);\n",
              "      const chunk = new Uint8Array(fileData, position, length);\n",
              "      position += length;\n",
              "\n",
              "      const base64 = btoa(String.fromCharCode.apply(null, chunk));\n",
              "      yield {\n",
              "        response: {\n",
              "          action: 'append',\n",
              "          file: file.name,\n",
              "          data: base64,\n",
              "        },\n",
              "      };\n",
              "\n",
              "      let percentDone = fileData.byteLength === 0 ?\n",
              "          100 :\n",
              "          Math.round((position / fileData.byteLength) * 100);\n",
              "      percent.textContent = `${percentDone}% done`;\n",
              "\n",
              "    } while (position < fileData.byteLength);\n",
              "  }\n",
              "\n",
              "  // All done.\n",
              "  yield {\n",
              "    response: {\n",
              "      action: 'complete',\n",
              "    }\n",
              "  };\n",
              "}\n",
              "\n",
              "scope.google = scope.google || {};\n",
              "scope.google.colab = scope.google.colab || {};\n",
              "scope.google.colab._files = {\n",
              "  _uploadFiles,\n",
              "  _uploadFilesContinue,\n",
              "};\n",
              "})(self);\n",
              "</script> "
            ]
          },
          "metadata": {}
        },
        {
          "output_type": "stream",
          "name": "stdout",
          "text": [
            "Saving open_ave_data.csv to open_ave_data.csv\n"
          ]
        }
      ],
      "source": [
        "uploaded = files.upload()"
      ]
    },
    {
      "cell_type": "code",
      "source": [
        "temp = pd.read_csv('open_ave_data.csv', engine = 'python', nrows = 957, index_col = 0)"
      ],
      "metadata": {
        "id": "T_L7Qgg9-1HT"
      },
      "execution_count": 5,
      "outputs": []
    },
    {
      "cell_type": "code",
      "source": [
        "# remove duplicates\n",
        "corpus = temp.drop_duplicates()"
      ],
      "metadata": {
        "id": "3by2_NH7zoUv"
      },
      "execution_count": 6,
      "outputs": []
    },
    {
      "cell_type": "code",
      "execution_count": 7,
      "metadata": {
        "id": "5_50dwOX1_xh"
      },
      "outputs": [],
      "source": [
        "corpus.dropna(inplace=True)"
      ]
    },
    {
      "cell_type": "code",
      "execution_count": 8,
      "metadata": {
        "colab": {
          "base_uri": "https://localhost:8080/",
          "height": 236
        },
        "id": "PT8hCNt6hpWS",
        "outputId": "680d55a5-0c91-4b67-b1fe-23dc62b946d2"
      },
      "outputs": [
        {
          "output_type": "execute_result",
          "data": {
            "text/plain": [
              "                                               ReportText  \\\n",
              "count                                                 950   \n",
              "unique                                                950   \n",
              "top     EXAM: CHEST RADIOGRAPHY EXAM DATE: 06/01/2019 ...   \n",
              "freq                                                    1   \n",
              "\n",
              "                                                 findings  \\\n",
              "count                                                 950   \n",
              "unique                                                406   \n",
              "top     FINDINGS: Lungs/Pleura: No focal opacities evi...   \n",
              "freq                                                  174   \n",
              "\n",
              "                              clinicaldata  \\\n",
              "count                                  950   \n",
              "unique                                 367   \n",
              "top     CLINICAL HISTORY: Chest pain. \\n\\n   \n",
              "freq                                    84   \n",
              "\n",
              "                                       ExamName  \\\n",
              "count                                       950   \n",
              "unique                                      732   \n",
              "top     EXAM: CHEST 2 VIEW\\n\\nCOMPARISON: None.   \n",
              "freq                                         35   \n",
              "\n",
              "                                    impression  \n",
              "count                                      950  \n",
              "unique                                     486  \n",
              "top     IMPRESSION: Normal single view chest.   \n",
              "freq                                       160  "
            ],
            "text/html": [
              "\n",
              "  <div id=\"df-d9ee6790-2baf-416a-ab7e-628204b3a069\">\n",
              "    <div class=\"colab-df-container\">\n",
              "      <div>\n",
              "<style scoped>\n",
              "    .dataframe tbody tr th:only-of-type {\n",
              "        vertical-align: middle;\n",
              "    }\n",
              "\n",
              "    .dataframe tbody tr th {\n",
              "        vertical-align: top;\n",
              "    }\n",
              "\n",
              "    .dataframe thead th {\n",
              "        text-align: right;\n",
              "    }\n",
              "</style>\n",
              "<table border=\"1\" class=\"dataframe\">\n",
              "  <thead>\n",
              "    <tr style=\"text-align: right;\">\n",
              "      <th></th>\n",
              "      <th>ReportText</th>\n",
              "      <th>findings</th>\n",
              "      <th>clinicaldata</th>\n",
              "      <th>ExamName</th>\n",
              "      <th>impression</th>\n",
              "    </tr>\n",
              "  </thead>\n",
              "  <tbody>\n",
              "    <tr>\n",
              "      <th>count</th>\n",
              "      <td>950</td>\n",
              "      <td>950</td>\n",
              "      <td>950</td>\n",
              "      <td>950</td>\n",
              "      <td>950</td>\n",
              "    </tr>\n",
              "    <tr>\n",
              "      <th>unique</th>\n",
              "      <td>950</td>\n",
              "      <td>406</td>\n",
              "      <td>367</td>\n",
              "      <td>732</td>\n",
              "      <td>486</td>\n",
              "    </tr>\n",
              "    <tr>\n",
              "      <th>top</th>\n",
              "      <td>EXAM: CHEST RADIOGRAPHY EXAM DATE: 06/01/2019 ...</td>\n",
              "      <td>FINDINGS: Lungs/Pleura: No focal opacities evi...</td>\n",
              "      <td>CLINICAL HISTORY: Chest pain. \\n\\n</td>\n",
              "      <td>EXAM: CHEST 2 VIEW\\n\\nCOMPARISON: None.</td>\n",
              "      <td>IMPRESSION: Normal single view chest.</td>\n",
              "    </tr>\n",
              "    <tr>\n",
              "      <th>freq</th>\n",
              "      <td>1</td>\n",
              "      <td>174</td>\n",
              "      <td>84</td>\n",
              "      <td>35</td>\n",
              "      <td>160</td>\n",
              "    </tr>\n",
              "  </tbody>\n",
              "</table>\n",
              "</div>\n",
              "      <button class=\"colab-df-convert\" onclick=\"convertToInteractive('df-d9ee6790-2baf-416a-ab7e-628204b3a069')\"\n",
              "              title=\"Convert this dataframe to an interactive table.\"\n",
              "              style=\"display:none;\">\n",
              "        \n",
              "  <svg xmlns=\"http://www.w3.org/2000/svg\" height=\"24px\"viewBox=\"0 0 24 24\"\n",
              "       width=\"24px\">\n",
              "    <path d=\"M0 0h24v24H0V0z\" fill=\"none\"/>\n",
              "    <path d=\"M18.56 5.44l.94 2.06.94-2.06 2.06-.94-2.06-.94-.94-2.06-.94 2.06-2.06.94zm-11 1L8.5 8.5l.94-2.06 2.06-.94-2.06-.94L8.5 2.5l-.94 2.06-2.06.94zm10 10l.94 2.06.94-2.06 2.06-.94-2.06-.94-.94-2.06-.94 2.06-2.06.94z\"/><path d=\"M17.41 7.96l-1.37-1.37c-.4-.4-.92-.59-1.43-.59-.52 0-1.04.2-1.43.59L10.3 9.45l-7.72 7.72c-.78.78-.78 2.05 0 2.83L4 21.41c.39.39.9.59 1.41.59.51 0 1.02-.2 1.41-.59l7.78-7.78 2.81-2.81c.8-.78.8-2.07 0-2.86zM5.41 20L4 18.59l7.72-7.72 1.47 1.35L5.41 20z\"/>\n",
              "  </svg>\n",
              "      </button>\n",
              "      \n",
              "  <style>\n",
              "    .colab-df-container {\n",
              "      display:flex;\n",
              "      flex-wrap:wrap;\n",
              "      gap: 12px;\n",
              "    }\n",
              "\n",
              "    .colab-df-convert {\n",
              "      background-color: #E8F0FE;\n",
              "      border: none;\n",
              "      border-radius: 50%;\n",
              "      cursor: pointer;\n",
              "      display: none;\n",
              "      fill: #1967D2;\n",
              "      height: 32px;\n",
              "      padding: 0 0 0 0;\n",
              "      width: 32px;\n",
              "    }\n",
              "\n",
              "    .colab-df-convert:hover {\n",
              "      background-color: #E2EBFA;\n",
              "      box-shadow: 0px 1px 2px rgba(60, 64, 67, 0.3), 0px 1px 3px 1px rgba(60, 64, 67, 0.15);\n",
              "      fill: #174EA6;\n",
              "    }\n",
              "\n",
              "    [theme=dark] .colab-df-convert {\n",
              "      background-color: #3B4455;\n",
              "      fill: #D2E3FC;\n",
              "    }\n",
              "\n",
              "    [theme=dark] .colab-df-convert:hover {\n",
              "      background-color: #434B5C;\n",
              "      box-shadow: 0px 1px 3px 1px rgba(0, 0, 0, 0.15);\n",
              "      filter: drop-shadow(0px 1px 2px rgba(0, 0, 0, 0.3));\n",
              "      fill: #FFFFFF;\n",
              "    }\n",
              "  </style>\n",
              "\n",
              "      <script>\n",
              "        const buttonEl =\n",
              "          document.querySelector('#df-d9ee6790-2baf-416a-ab7e-628204b3a069 button.colab-df-convert');\n",
              "        buttonEl.style.display =\n",
              "          google.colab.kernel.accessAllowed ? 'block' : 'none';\n",
              "\n",
              "        async function convertToInteractive(key) {\n",
              "          const element = document.querySelector('#df-d9ee6790-2baf-416a-ab7e-628204b3a069');\n",
              "          const dataTable =\n",
              "            await google.colab.kernel.invokeFunction('convertToInteractive',\n",
              "                                                     [key], {});\n",
              "          if (!dataTable) return;\n",
              "\n",
              "          const docLinkHtml = 'Like what you see? Visit the ' +\n",
              "            '<a target=\"_blank\" href=https://colab.research.google.com/notebooks/data_table.ipynb>data table notebook</a>'\n",
              "            + ' to learn more about interactive tables.';\n",
              "          element.innerHTML = '';\n",
              "          dataTable['output_type'] = 'display_data';\n",
              "          await google.colab.output.renderOutput(dataTable, element);\n",
              "          const docLink = document.createElement('div');\n",
              "          docLink.innerHTML = docLinkHtml;\n",
              "          element.appendChild(docLink);\n",
              "        }\n",
              "      </script>\n",
              "    </div>\n",
              "  </div>\n",
              "  "
            ]
          },
          "metadata": {},
          "execution_count": 8
        }
      ],
      "source": [
        "corpus.describe()"
      ]
    },
    {
      "cell_type": "code",
      "source": [
        "corpus = corpus.apply(lambda x: x.astype(str).str.lower())"
      ],
      "metadata": {
        "id": "X-MvJz27cJVQ"
      },
      "execution_count": 9,
      "outputs": []
    },
    {
      "cell_type": "code",
      "source": [
        "# results are crazy accurate, remove label from each cell\n",
        "\n",
        "corpus['findings'] = corpus['findings'].str.replace('findings', '')\n",
        "corpus['clinicaldata'] = corpus['clinicaldata'].str.replace('clinical', '')\n",
        "corpus['clinicaldata'] = corpus['clinicaldata'].str.replace('clinical data', '')\n",
        "corpus['clinicaldata'] = corpus['clinicaldata'].str.replace('indication', '')\n",
        "corpus['clinicaldata'] = corpus['clinicaldata'].str.replace('history', '')\n",
        "corpus['clinicaldata'] = corpus['clinicaldata'].str.replace('data', '')\n",
        "corpus['clinicaldata'] = corpus['clinicaldata'].str.replace('information', '')\n",
        "corpus['ExamName'] = corpus['ExamName'].str.replace('exam', '')\n",
        "corpus['impression'] = corpus['impression'].str.replace('impression', '')\n"
      ],
      "metadata": {
        "id": "Z9jY_cE0a7N0"
      },
      "execution_count": 10,
      "outputs": []
    },
    {
      "cell_type": "code",
      "source": [
        "corpus.head(2)"
      ],
      "metadata": {
        "colab": {
          "base_uri": "https://localhost:8080/",
          "height": 191
        },
        "id": "BXdRFhj3dhd5",
        "outputId": "4b2185bc-0269-461b-fc9b-87ddd89f4a10"
      },
      "execution_count": 11,
      "outputs": [
        {
          "output_type": "execute_result",
          "data": {
            "text/plain": [
              "                                          ReportText  \\\n",
              "0  exam: chest radiography exam date: 06/01/2019 ...   \n",
              "1  exam: chest radiography exam date: 05/23/2020 ...   \n",
              "\n",
              "                                            findings         clinicaldata  \\\n",
              "0  : lungs/pleura: no focal opacities evident. no...        : cough. \\n\\n   \n",
              "1  : lungs/pleura: no focal opacities evident. no...   : chest pain. \\n\\n   \n",
              "\n",
              "                                            ExamName  \\\n",
              "0  : chest radiography  date: 06/01/2019 08:30 pm...   \n",
              "1  : chest radiography  date: 05/23/2020 12:03 pm...   \n",
              "\n",
              "                                 impression  \n",
              "0       : normal 2-view chest radiography.   \n",
              "1  : no acute cardiopulmonary abnormality.   "
            ],
            "text/html": [
              "\n",
              "  <div id=\"df-5e795203-9524-42c5-badd-a830892c8a86\">\n",
              "    <div class=\"colab-df-container\">\n",
              "      <div>\n",
              "<style scoped>\n",
              "    .dataframe tbody tr th:only-of-type {\n",
              "        vertical-align: middle;\n",
              "    }\n",
              "\n",
              "    .dataframe tbody tr th {\n",
              "        vertical-align: top;\n",
              "    }\n",
              "\n",
              "    .dataframe thead th {\n",
              "        text-align: right;\n",
              "    }\n",
              "</style>\n",
              "<table border=\"1\" class=\"dataframe\">\n",
              "  <thead>\n",
              "    <tr style=\"text-align: right;\">\n",
              "      <th></th>\n",
              "      <th>ReportText</th>\n",
              "      <th>findings</th>\n",
              "      <th>clinicaldata</th>\n",
              "      <th>ExamName</th>\n",
              "      <th>impression</th>\n",
              "    </tr>\n",
              "  </thead>\n",
              "  <tbody>\n",
              "    <tr>\n",
              "      <th>0</th>\n",
              "      <td>exam: chest radiography exam date: 06/01/2019 ...</td>\n",
              "      <td>: lungs/pleura: no focal opacities evident. no...</td>\n",
              "      <td>: cough. \\n\\n</td>\n",
              "      <td>: chest radiography  date: 06/01/2019 08:30 pm...</td>\n",
              "      <td>: normal 2-view chest radiography.</td>\n",
              "    </tr>\n",
              "    <tr>\n",
              "      <th>1</th>\n",
              "      <td>exam: chest radiography exam date: 05/23/2020 ...</td>\n",
              "      <td>: lungs/pleura: no focal opacities evident. no...</td>\n",
              "      <td>: chest pain. \\n\\n</td>\n",
              "      <td>: chest radiography  date: 05/23/2020 12:03 pm...</td>\n",
              "      <td>: no acute cardiopulmonary abnormality.</td>\n",
              "    </tr>\n",
              "  </tbody>\n",
              "</table>\n",
              "</div>\n",
              "      <button class=\"colab-df-convert\" onclick=\"convertToInteractive('df-5e795203-9524-42c5-badd-a830892c8a86')\"\n",
              "              title=\"Convert this dataframe to an interactive table.\"\n",
              "              style=\"display:none;\">\n",
              "        \n",
              "  <svg xmlns=\"http://www.w3.org/2000/svg\" height=\"24px\"viewBox=\"0 0 24 24\"\n",
              "       width=\"24px\">\n",
              "    <path d=\"M0 0h24v24H0V0z\" fill=\"none\"/>\n",
              "    <path d=\"M18.56 5.44l.94 2.06.94-2.06 2.06-.94-2.06-.94-.94-2.06-.94 2.06-2.06.94zm-11 1L8.5 8.5l.94-2.06 2.06-.94-2.06-.94L8.5 2.5l-.94 2.06-2.06.94zm10 10l.94 2.06.94-2.06 2.06-.94-2.06-.94-.94-2.06-.94 2.06-2.06.94z\"/><path d=\"M17.41 7.96l-1.37-1.37c-.4-.4-.92-.59-1.43-.59-.52 0-1.04.2-1.43.59L10.3 9.45l-7.72 7.72c-.78.78-.78 2.05 0 2.83L4 21.41c.39.39.9.59 1.41.59.51 0 1.02-.2 1.41-.59l7.78-7.78 2.81-2.81c.8-.78.8-2.07 0-2.86zM5.41 20L4 18.59l7.72-7.72 1.47 1.35L5.41 20z\"/>\n",
              "  </svg>\n",
              "      </button>\n",
              "      \n",
              "  <style>\n",
              "    .colab-df-container {\n",
              "      display:flex;\n",
              "      flex-wrap:wrap;\n",
              "      gap: 12px;\n",
              "    }\n",
              "\n",
              "    .colab-df-convert {\n",
              "      background-color: #E8F0FE;\n",
              "      border: none;\n",
              "      border-radius: 50%;\n",
              "      cursor: pointer;\n",
              "      display: none;\n",
              "      fill: #1967D2;\n",
              "      height: 32px;\n",
              "      padding: 0 0 0 0;\n",
              "      width: 32px;\n",
              "    }\n",
              "\n",
              "    .colab-df-convert:hover {\n",
              "      background-color: #E2EBFA;\n",
              "      box-shadow: 0px 1px 2px rgba(60, 64, 67, 0.3), 0px 1px 3px 1px rgba(60, 64, 67, 0.15);\n",
              "      fill: #174EA6;\n",
              "    }\n",
              "\n",
              "    [theme=dark] .colab-df-convert {\n",
              "      background-color: #3B4455;\n",
              "      fill: #D2E3FC;\n",
              "    }\n",
              "\n",
              "    [theme=dark] .colab-df-convert:hover {\n",
              "      background-color: #434B5C;\n",
              "      box-shadow: 0px 1px 3px 1px rgba(0, 0, 0, 0.15);\n",
              "      filter: drop-shadow(0px 1px 2px rgba(0, 0, 0, 0.3));\n",
              "      fill: #FFFFFF;\n",
              "    }\n",
              "  </style>\n",
              "\n",
              "      <script>\n",
              "        const buttonEl =\n",
              "          document.querySelector('#df-5e795203-9524-42c5-badd-a830892c8a86 button.colab-df-convert');\n",
              "        buttonEl.style.display =\n",
              "          google.colab.kernel.accessAllowed ? 'block' : 'none';\n",
              "\n",
              "        async function convertToInteractive(key) {\n",
              "          const element = document.querySelector('#df-5e795203-9524-42c5-badd-a830892c8a86');\n",
              "          const dataTable =\n",
              "            await google.colab.kernel.invokeFunction('convertToInteractive',\n",
              "                                                     [key], {});\n",
              "          if (!dataTable) return;\n",
              "\n",
              "          const docLinkHtml = 'Like what you see? Visit the ' +\n",
              "            '<a target=\"_blank\" href=https://colab.research.google.com/notebooks/data_table.ipynb>data table notebook</a>'\n",
              "            + ' to learn more about interactive tables.';\n",
              "          element.innerHTML = '';\n",
              "          dataTable['output_type'] = 'display_data';\n",
              "          await google.colab.output.renderOutput(dataTable, element);\n",
              "          const docLink = document.createElement('div');\n",
              "          docLink.innerHTML = docLinkHtml;\n",
              "          element.appendChild(docLink);\n",
              "        }\n",
              "      </script>\n",
              "    </div>\n",
              "  </div>\n",
              "  "
            ]
          },
          "metadata": {},
          "execution_count": 11
        }
      ]
    },
    {
      "cell_type": "code",
      "execution_count": 12,
      "metadata": {
        "id": "tN10puI0yOVs"
      },
      "outputs": [],
      "source": [
        "findings = corpus['findings'].tolist()\n",
        "clinicaldata = corpus['clinicaldata'].tolist()\n",
        "examname = corpus['ExamName'].tolist()\n",
        "impression = corpus['impression'].tolist()"
      ]
    },
    {
      "cell_type": "code",
      "execution_count": 13,
      "metadata": {
        "id": "1ipIhGHQynRj"
      },
      "outputs": [],
      "source": [
        "corpus = findings + clinicaldata + examname + impression"
      ]
    },
    {
      "cell_type": "code",
      "execution_count": 14,
      "metadata": {
        "id": "GOEU4sYyELwu"
      },
      "outputs": [],
      "source": [
        "## Tf-Idf (advanced variant of BoW)\n",
        "vectoriser = feature_extraction.text.TfidfVectorizer(max_features=100)"
      ]
    },
    {
      "cell_type": "code",
      "execution_count": 15,
      "metadata": {
        "id": "EBDKbONccDNP"
      },
      "outputs": [],
      "source": [
        "# fit_transform is a combination of the fit method and the transform method\n",
        "# use fit_transform method to learn vocabulary and idf, return document-term matrix\n",
        "X = vectoriser.fit_transform(corpus)"
      ]
    },
    {
      "cell_type": "code",
      "execution_count": 16,
      "metadata": {
        "colab": {
          "base_uri": "https://localhost:8080/"
        },
        "id": "8rr_f-ZgcIqM",
        "outputId": "5c639c20-0080-4955-d691-10ef66f6885a"
      },
      "outputs": [
        {
          "output_type": "execute_result",
          "data": {
            "text/plain": [
              "array(['01', '02', '03', '04', '05', '06', '07', '08', '09', '10', '11',\n",
              "       '12', '2018', '2019', '2020', '2021', 'abnormality', 'acute', 'am',\n",
              "       'and', 'ap', 'are', 'breath', 'by', 'cardiomediastinal',\n",
              "       'cardiopulmonary', 'chest', 'clear', 'comparison', 'consolidation',\n",
              "       'contour', 'contours', 'cough', 'date', 'dated', 'dictated',\n",
              "       'disease', 'effusion', 'effusions', 'electronically', 'evidence',\n",
              "       'evident', 'exam', 'focal', 'for', 'heart', 'in', 'infiltrate',\n",
              "       'is', 'lateral', 'left', 'limitations', 'limits', 'lung', 'lungs',\n",
              "       'md', 'mediastinal', 'mediastinum', 'no', 'none', 'normal', 'of',\n",
              "       'on', 'opacities', 'or', 'osseous', 'other', 'pa', 'pain',\n",
              "       'personalname', 'pleura', 'pleural', 'pm', 'pneumothorax',\n",
              "       'portable', 'process', 'pulmonary', 'radiography', 'right',\n",
              "       'shortness', 'signed', 'significant', 'silhouette', 'single',\n",
              "       'size', 'stable', 'structures', 'technique', 'the', 'there',\n",
              "       'time', 'tube', 'two', 'unremarkable', 'view', 'views', 'volumes',\n",
              "       'with', 'within', 'xr'], dtype=object)"
            ]
          },
          "metadata": {},
          "execution_count": 16
        }
      ],
      "source": [
        "# show feature names\n",
        "vectoriser.get_feature_names_out()"
      ]
    },
    {
      "cell_type": "code",
      "execution_count": 17,
      "metadata": {
        "colab": {
          "base_uri": "https://localhost:8080/"
        },
        "id": "sflWgUlD0gB-",
        "outputId": "cccbad81-7539-49ca-f55f-b617a7fb2412"
      },
      "outputs": [
        {
          "output_type": "execute_result",
          "data": {
            "text/plain": [
              "<bound method _cs_matrix.toarray of <3800x100 sparse matrix of type '<class 'numpy.float64'>'\n",
              "\twith 33100 stored elements in Compressed Sparse Row format>>"
            ]
          },
          "metadata": {},
          "execution_count": 17
        }
      ],
      "source": [
        "X.toarray"
      ]
    },
    {
      "cell_type": "code",
      "execution_count": 18,
      "metadata": {
        "colab": {
          "base_uri": "https://localhost:8080/"
        },
        "id": "yoU20OQi2oJ5",
        "outputId": "6a297146-ac7f-4c13-bd36-cf129d332e36"
      },
      "outputs": [
        {
          "output_type": "execute_result",
          "data": {
            "text/plain": [
              "(3800, 100)"
            ]
          },
          "metadata": {},
          "execution_count": 18
        }
      ],
      "source": [
        "X.shape"
      ]
    },
    {
      "cell_type": "code",
      "execution_count": 19,
      "metadata": {
        "id": "dG78DmmI0c9W"
      },
      "outputs": [],
      "source": [
        "X_embedded = TSNE(n_components=2, learning_rate='auto', init='random', perplexity=4).fit_transform(X)"
      ]
    },
    {
      "cell_type": "code",
      "execution_count": 20,
      "metadata": {
        "colab": {
          "base_uri": "https://localhost:8080/"
        },
        "id": "zVrMSPmJ3MZK",
        "outputId": "58d458ba-66c1-4da3-e4a2-cbc10e37c1b9"
      },
      "outputs": [
        {
          "output_type": "execute_result",
          "data": {
            "text/plain": [
              "array([[ 46.670242 , -21.34493  ],\n",
              "       [ -9.391765 ,  15.046074 ],\n",
              "       [ 46.513348 , -21.51199  ],\n",
              "       ...,\n",
              "       [ 24.881994 ,   2.1718485],\n",
              "       [ 23.588417 ,  60.474255 ],\n",
              "       [-42.389748 , -30.100346 ]], dtype=float32)"
            ]
          },
          "metadata": {},
          "execution_count": 20
        }
      ],
      "source": [
        "X_embedded"
      ]
    },
    {
      "cell_type": "code",
      "execution_count": 21,
      "metadata": {
        "colab": {
          "base_uri": "https://localhost:8080/",
          "height": 621
        },
        "id": "5FJ3wOqcCRIv",
        "outputId": "a6c5b6bf-3a78-4cbb-b7f1-4d4cd66f9685"
      },
      "outputs": [
        {
          "output_type": "display_data",
          "data": {
            "text/plain": [
              "<Figure size 720x720 with 1 Axes>"
            ],
            "image/png": "[encoded data removed]"
          },
          "metadata": {
            "needs_background": "light"
          }
        }
      ],
      "source": [
        "import matplotlib.pyplot as plt\n",
        "import numpy as np\n",
        "plt.figure(figsize=(10, 10))\n",
        "\n",
        "# x and y values for the first scatter plot\n",
        "x1 = X_embedded[0:949, 1]\n",
        "y1 = X_embedded[0:949, 0]\n",
        "\n",
        "# x and y values for the second scatter plot\n",
        "x2 = X_embedded[950:1899, 1]\n",
        "y2 = X_embedded[950:1899, 0]\n",
        "\n",
        "# third \n",
        "x3 = X_embedded[1900:2849, 1]\n",
        "y3 = X_embedded[1900:2849, 0]\n",
        "\n",
        "# fourth\n",
        "x4 = X_embedded[2850:3800, 1]\n",
        "y4 = X_embedded[2850:3800, 0]\n",
        "\n",
        "# first scatter plot\n",
        "plt.scatter(x1, y1, c =\"coral\", marker =\"o\", s = 70, alpha=0.5)\n",
        "\n",
        "# second\n",
        "plt.scatter(x2, y2, c =\"limegreen\", marker =\"o\", s = 70, alpha=0.5)\n",
        "\n",
        "# third\n",
        "plt.scatter(x3, y3, c =\"deepskyblue\", marker =\"o\", s = 70, alpha=0.5)\n",
        "\n",
        "# fourth\n",
        "plt.scatter(x4, y4, c =\"gold\", marker =\"o\", s = 70, alpha=0.5)\n",
        "\n",
        "\n",
        "plt.title('Report Data by Cluster')\n",
        "plt.legend([\"findings\", \"clinical data\", \"exam name\", \"impression\"], loc =\"lower right\")\n",
        "\n",
        "plt.xlabel('x-axis')\n",
        "plt.ylabel('y-axis')\n",
        "\n",
        "plt.show()"
      ]
    },
    {
      "cell_type": "code",
      "execution_count": null,
      "metadata": {
        "id": "1pIfeXnqJAp0"
      },
      "outputs": [],
      "source": [
        "# X = tfidf matrix"
      ]
    },
    {
      "cell_type": "code",
      "execution_count": 22,
      "metadata": {
        "colab": {
          "base_uri": "https://localhost:8080/"
        },
        "id": "ISSGjFNEJAtt",
        "outputId": "7b8d7241-96c9-4d42-a690-f0880dde3980"
      },
      "outputs": [
        {
          "output_type": "execute_result",
          "data": {
            "text/plain": [
              "(3800, 100)"
            ]
          },
          "metadata": {},
          "execution_count": 22
        }
      ],
      "source": [
        "X.shape"
      ]
    },
    {
      "cell_type": "code",
      "source": [
        "print(X)"
      ],
      "metadata": {
        "colab": {
          "base_uri": "https://localhost:8080/"
        },
        "id": "roWqYefEdYcZ",
        "outputId": "923258f6-284d-463f-d291-7a436080ccd7"
      },
      "execution_count": 23,
      "outputs": [
        {
          "output_type": "stream",
          "name": "stdout",
          "text": [
            "  (0, 59)\t0.16150455244211886\n",
            "  (0, 66)\t0.2129639771134201\n",
            "  (0, 93)\t0.24265688512944303\n",
            "  (0, 21)\t0.1961071665746259\n",
            "  (0, 31)\t0.25224145505695267\n",
            "  (0, 56)\t0.24340485932216624\n",
            "  (0, 19)\t0.17192998444882876\n",
            "  (0, 45)\t0.20476897140859285\n",
            "  (0, 57)\t0.20911328563743536\n",
            "  (0, 96)\t0.28121796938848836\n",
            "  (0, 60)\t0.14787276214453304\n",
            "  (0, 73)\t0.17726975118879804\n",
            "  (0, 37)\t0.1840955479870798\n",
            "  (0, 71)\t0.17410298187061307\n",
            "  (0, 41)\t0.2304600589205553\n",
            "  (0, 63)\t0.22086932961050432\n",
            "  (0, 43)\t0.2132818932180978\n",
            "  (0, 58)\t0.414736655570248\n",
            "  (0, 70)\t0.21522201175438968\n",
            "  (0, 54)\t0.1756222864836202\n",
            "  (1, 78)\t0.27672854659409873\n",
            "  (1, 89)\t0.23559891796343044\n",
            "  (1, 48)\t0.3457873976085344\n",
            "  (1, 30)\t0.22419088804303652\n",
            "  (1, 24)\t0.20101214662676953\n",
            "  :\t:\n",
            "  (3798, 35)\t0.7621194795641035\n",
            "  (3798, 55)\t0.019352319281991326\n",
            "  (3798, 33)\t0.31399208826917224\n",
            "  (3798, 69)\t0.015068337085760736\n",
            "  (3798, 25)\t0.017405046191253798\n",
            "  (3798, 23)\t0.015204263223920135\n",
            "  (3798, 91)\t0.06720481245852791\n",
            "  (3798, 52)\t0.019109250982528473\n",
            "  (3798, 75)\t0.020101797026926063\n",
            "  (3798, 46)\t0.07492033203851013\n",
            "  (3798, 82)\t0.019109250982528473\n",
            "  (3798, 17)\t0.013915316348440341\n",
            "  (3798, 97)\t0.02083896516434853\n",
            "  (3798, 48)\t0.02707500075929959\n",
            "  (3798, 88)\t0.049687961479609466\n",
            "  (3798, 98)\t0.015101952776686937\n",
            "  (3798, 21)\t0.013906582741937588\n",
            "  (3798, 60)\t0.010486127753313229\n",
            "  (3798, 58)\t0.00980343166025561\n",
            "  (3798, 54)\t0.012453934759101958\n",
            "  (3799, 50)\t0.49840226889934025\n",
            "  (3799, 36)\t0.42482528212423\n",
            "  (3799, 76)\t0.41407242386123266\n",
            "  (3799, 19)\t0.5573394393492458\n",
            "  (3799, 37)\t0.29838806136910057\n"
          ]
        }
      ]
    },
    {
      "cell_type": "code",
      "source": [
        "  height = 3800\n",
        "  y = pd.DataFrame(0, index=range(height), columns=range(1))"
      ],
      "metadata": {
        "id": "t9O80J0EXwjd"
      },
      "execution_count": 24,
      "outputs": []
    },
    {
      "cell_type": "code",
      "source": [
        "y.shape"
      ],
      "metadata": {
        "colab": {
          "base_uri": "https://localhost:8080/"
        },
        "id": "XhEDzqoQYFKe",
        "outputId": "c7337efb-48fc-46af-9cc7-89d73a298a94"
      },
      "execution_count": 25,
      "outputs": [
        {
          "output_type": "execute_result",
          "data": {
            "text/plain": [
              "(3800, 1)"
            ]
          },
          "metadata": {},
          "execution_count": 25
        }
      ]
    },
    {
      "cell_type": "code",
      "source": [],
      "metadata": {
        "id": "6UBs8negYZa0"
      },
      "execution_count": null,
      "outputs": []
    },
    {
      "cell_type": "code",
      "source": [],
      "metadata": {
        "id": "2erCTsZ3Zbea"
      },
      "execution_count": null,
      "outputs": []
    },
    {
      "cell_type": "code",
      "source": [
        "y.loc[0:949,\"\"]= 'findings'\n",
        "y.loc[950:1899,\"\"]= 'clinicaldata'\n",
        "y.loc[1900:2849,\"\"]= 'examname'\n",
        "y.loc[2850:3799,\"\"]= 'impression'"
      ],
      "metadata": {
        "id": "xXIcBs-HZk5R"
      },
      "execution_count": 26,
      "outputs": []
    },
    {
      "cell_type": "code",
      "source": [],
      "metadata": {
        "id": "otWWzmXjZsD2"
      },
      "execution_count": 26,
      "outputs": []
    },
    {
      "cell_type": "code",
      "source": [
        "print(y)\n",
        "y_saved = y"
      ],
      "metadata": {
        "colab": {
          "base_uri": "https://localhost:8080/"
        },
        "id": "ZxViA1DbZYtl",
        "outputId": "60bf51c1-3968-4952-bb03-73a8e80633d9"
      },
      "execution_count": 27,
      "outputs": [
        {
          "output_type": "stream",
          "name": "stdout",
          "text": [
            "      0            \n",
            "0     0    findings\n",
            "1     0    findings\n",
            "2     0    findings\n",
            "3     0    findings\n",
            "4     0    findings\n",
            "...  ..         ...\n",
            "3795  0  impression\n",
            "3796  0  impression\n",
            "3797  0  impression\n",
            "3798  0  impression\n",
            "3799  0  impression\n",
            "\n",
            "[3800 rows x 2 columns]\n"
          ]
        }
      ]
    },
    {
      "cell_type": "code",
      "source": [
        "df_y = pd.DataFrame.from_records(y)"
      ],
      "metadata": {
        "id": "Yw-yrYmeJpMd"
      },
      "execution_count": 28,
      "outputs": []
    },
    {
      "cell_type": "code",
      "source": [
        "df_y.head()"
      ],
      "metadata": {
        "colab": {
          "base_uri": "https://localhost:8080/",
          "height": 206
        },
        "id": "cUMzUqU9Oh70",
        "outputId": "d05e0919-98ca-426d-e94b-0dae22c11dec"
      },
      "execution_count": 29,
      "outputs": [
        {
          "output_type": "execute_result",
          "data": {
            "text/plain": [
              "   0          \n",
              "0  0  findings\n",
              "1  0  findings\n",
              "2  0  findings\n",
              "3  0  findings\n",
              "4  0  findings"
            ],
            "text/html": [
              "\n",
              "  <div id=\"df-20836945-0c02-4a1e-8bd5-320ab8488e38\">\n",
              "    <div class=\"colab-df-container\">\n",
              "      <div>\n",
              "<style scoped>\n",
              "    .dataframe tbody tr th:only-of-type {\n",
              "        vertical-align: middle;\n",
              "    }\n",
              "\n",
              "    .dataframe tbody tr th {\n",
              "        vertical-align: top;\n",
              "    }\n",
              "\n",
              "    .dataframe thead th {\n",
              "        text-align: right;\n",
              "    }\n",
              "</style>\n",
              "<table border=\"1\" class=\"dataframe\">\n",
              "  <thead>\n",
              "    <tr style=\"text-align: right;\">\n",
              "      <th></th>\n",
              "      <th>0</th>\n",
              "      <th></th>\n",
              "    </tr>\n",
              "  </thead>\n",
              "  <tbody>\n",
              "    <tr>\n",
              "      <th>0</th>\n",
              "      <td>0</td>\n",
              "      <td>findings</td>\n",
              "    </tr>\n",
              "    <tr>\n",
              "      <th>1</th>\n",
              "      <td>0</td>\n",
              "      <td>findings</td>\n",
              "    </tr>\n",
              "    <tr>\n",
              "      <th>2</th>\n",
              "      <td>0</td>\n",
              "      <td>findings</td>\n",
              "    </tr>\n",
              "    <tr>\n",
              "      <th>3</th>\n",
              "      <td>0</td>\n",
              "      <td>findings</td>\n",
              "    </tr>\n",
              "    <tr>\n",
              "      <th>4</th>\n",
              "      <td>0</td>\n",
              "      <td>findings</td>\n",
              "    </tr>\n",
              "  </tbody>\n",
              "</table>\n",
              "</div>\n",
              "      <button class=\"colab-df-convert\" onclick=\"convertToInteractive('df-20836945-0c02-4a1e-8bd5-320ab8488e38')\"\n",
              "              title=\"Convert this dataframe to an interactive table.\"\n",
              "              style=\"display:none;\">\n",
              "        \n",
              "  <svg xmlns=\"http://www.w3.org/2000/svg\" height=\"24px\"viewBox=\"0 0 24 24\"\n",
              "       width=\"24px\">\n",
              "    <path d=\"M0 0h24v24H0V0z\" fill=\"none\"/>\n",
              "    <path d=\"M18.56 5.44l.94 2.06.94-2.06 2.06-.94-2.06-.94-.94-2.06-.94 2.06-2.06.94zm-11 1L8.5 8.5l.94-2.06 2.06-.94-2.06-.94L8.5 2.5l-.94 2.06-2.06.94zm10 10l.94 2.06.94-2.06 2.06-.94-2.06-.94-.94-2.06-.94 2.06-2.06.94z\"/><path d=\"M17.41 7.96l-1.37-1.37c-.4-.4-.92-.59-1.43-.59-.52 0-1.04.2-1.43.59L10.3 9.45l-7.72 7.72c-.78.78-.78 2.05 0 2.83L4 21.41c.39.39.9.59 1.41.59.51 0 1.02-.2 1.41-.59l7.78-7.78 2.81-2.81c.8-.78.8-2.07 0-2.86zM5.41 20L4 18.59l7.72-7.72 1.47 1.35L5.41 20z\"/>\n",
              "  </svg>\n",
              "      </button>\n",
              "      \n",
              "  <style>\n",
              "    .colab-df-container {\n",
              "      display:flex;\n",
              "      flex-wrap:wrap;\n",
              "      gap: 12px;\n",
              "    }\n",
              "\n",
              "    .colab-df-convert {\n",
              "      background-color: #E8F0FE;\n",
              "      border: none;\n",
              "      border-radius: 50%;\n",
              "      cursor: pointer;\n",
              "      display: none;\n",
              "      fill: #1967D2;\n",
              "      height: 32px;\n",
              "      padding: 0 0 0 0;\n",
              "      width: 32px;\n",
              "    }\n",
              "\n",
              "    .colab-df-convert:hover {\n",
              "      background-color: #E2EBFA;\n",
              "      box-shadow: 0px 1px 2px rgba(60, 64, 67, 0.3), 0px 1px 3px 1px rgba(60, 64, 67, 0.15);\n",
              "      fill: #174EA6;\n",
              "    }\n",
              "\n",
              "    [theme=dark] .colab-df-convert {\n",
              "      background-color: #3B4455;\n",
              "      fill: #D2E3FC;\n",
              "    }\n",
              "\n",
              "    [theme=dark] .colab-df-convert:hover {\n",
              "      background-color: #434B5C;\n",
              "      box-shadow: 0px 1px 3px 1px rgba(0, 0, 0, 0.15);\n",
              "      filter: drop-shadow(0px 1px 2px rgba(0, 0, 0, 0.3));\n",
              "      fill: #FFFFFF;\n",
              "    }\n",
              "  </style>\n",
              "\n",
              "      <script>\n",
              "        const buttonEl =\n",
              "          document.querySelector('#df-20836945-0c02-4a1e-8bd5-320ab8488e38 button.colab-df-convert');\n",
              "        buttonEl.style.display =\n",
              "          google.colab.kernel.accessAllowed ? 'block' : 'none';\n",
              "\n",
              "        async function convertToInteractive(key) {\n",
              "          const element = document.querySelector('#df-20836945-0c02-4a1e-8bd5-320ab8488e38');\n",
              "          const dataTable =\n",
              "            await google.colab.kernel.invokeFunction('convertToInteractive',\n",
              "                                                     [key], {});\n",
              "          if (!dataTable) return;\n",
              "\n",
              "          const docLinkHtml = 'Like what you see? Visit the ' +\n",
              "            '<a target=\"_blank\" href=https://colab.research.google.com/notebooks/data_table.ipynb>data table notebook</a>'\n",
              "            + ' to learn more about interactive tables.';\n",
              "          element.innerHTML = '';\n",
              "          dataTable['output_type'] = 'display_data';\n",
              "          await google.colab.output.renderOutput(dataTable, element);\n",
              "          const docLink = document.createElement('div');\n",
              "          docLink.innerHTML = docLinkHtml;\n",
              "          element.appendChild(docLink);\n",
              "        }\n",
              "      </script>\n",
              "    </div>\n",
              "  </div>\n",
              "  "
            ]
          },
          "metadata": {},
          "execution_count": 29
        }
      ]
    },
    {
      "cell_type": "code",
      "source": [
        "y.rename(columns = {'':'y'}, inplace = True)"
      ],
      "metadata": {
        "id": "gL3a3C9dOLhv"
      },
      "execution_count": 30,
      "outputs": []
    },
    {
      "cell_type": "code",
      "source": [
        "y.drop(columns=[0], inplace = True)"
      ],
      "metadata": {
        "id": "HiarepdEOflU"
      },
      "execution_count": 31,
      "outputs": []
    },
    {
      "cell_type": "code",
      "source": [
        "print(y)\n",
        "y_saved = y"
      ],
      "metadata": {
        "colab": {
          "base_uri": "https://localhost:8080/"
        },
        "id": "yfgV7XHoX0by",
        "outputId": "314df7f8-4f8c-49bb-ee0b-c558e74cafe6"
      },
      "execution_count": 32,
      "outputs": [
        {
          "output_type": "stream",
          "name": "stdout",
          "text": [
            "               y\n",
            "0       findings\n",
            "1       findings\n",
            "2       findings\n",
            "3       findings\n",
            "4       findings\n",
            "...          ...\n",
            "3795  impression\n",
            "3796  impression\n",
            "3797  impression\n",
            "3798  impression\n",
            "3799  impression\n",
            "\n",
            "[3800 rows x 1 columns]\n"
          ]
        }
      ]
    },
    {
      "cell_type": "code",
      "source": [
        "df_X = pd.DataFrame (corpus, columns = ['X'])"
      ],
      "metadata": {
        "id": "BIaPuZnjNbHU"
      },
      "execution_count": 33,
      "outputs": []
    },
    {
      "cell_type": "code",
      "source": [
        "df_all = pd.concat([df_X, y], axis=1)"
      ],
      "metadata": {
        "id": "MdPBXJKiH7Wh"
      },
      "execution_count": 34,
      "outputs": []
    },
    {
      "cell_type": "code",
      "source": [
        "msk = np.random.rand(len(df_all)) < 0.66\n",
        "\n",
        "train = df_all[msk]\n",
        "\n",
        "test = df_all[~msk]"
      ],
      "metadata": {
        "id": "f5MajQw0H2NG"
      },
      "execution_count": 35,
      "outputs": []
    },
    {
      "cell_type": "code",
      "source": [
        "train.describe()"
      ],
      "metadata": {
        "colab": {
          "base_uri": "https://localhost:8080/",
          "height": 175
        },
        "id": "CL9BRJKGo1uy",
        "outputId": "8b7709cb-4e5e-4cd5-b5f5-94e603cfed66"
      },
      "execution_count": 36,
      "outputs": [
        {
          "output_type": "execute_result",
          "data": {
            "text/plain": [
              "                                                        X         y\n",
              "count                                                2570      2570\n",
              "unique                                               1338         4\n",
              "top     : lungs/pleura: no focal opacities evident. no...  findings\n",
              "freq                                                  122       652"
            ],
            "text/html": [
              "\n",
              "  <div id=\"df-852458f3-c169-4554-8405-815e51df98c3\">\n",
              "    <div class=\"colab-df-container\">\n",
              "      <div>\n",
              "<style scoped>\n",
              "    .dataframe tbody tr th:only-of-type {\n",
              "        vertical-align: middle;\n",
              "    }\n",
              "\n",
              "    .dataframe tbody tr th {\n",
              "        vertical-align: top;\n",
              "    }\n",
              "\n",
              "    .dataframe thead th {\n",
              "        text-align: right;\n",
              "    }\n",
              "</style>\n",
              "<table border=\"1\" class=\"dataframe\">\n",
              "  <thead>\n",
              "    <tr style=\"text-align: right;\">\n",
              "      <th></th>\n",
              "      <th>X</th>\n",
              "      <th>y</th>\n",
              "    </tr>\n",
              "  </thead>\n",
              "  <tbody>\n",
              "    <tr>\n",
              "      <th>count</th>\n",
              "      <td>2570</td>\n",
              "      <td>2570</td>\n",
              "    </tr>\n",
              "    <tr>\n",
              "      <th>unique</th>\n",
              "      <td>1338</td>\n",
              "      <td>4</td>\n",
              "    </tr>\n",
              "    <tr>\n",
              "      <th>top</th>\n",
              "      <td>: lungs/pleura: no focal opacities evident. no...</td>\n",
              "      <td>findings</td>\n",
              "    </tr>\n",
              "    <tr>\n",
              "      <th>freq</th>\n",
              "      <td>122</td>\n",
              "      <td>652</td>\n",
              "    </tr>\n",
              "  </tbody>\n",
              "</table>\n",
              "</div>\n",
              "      <button class=\"colab-df-convert\" onclick=\"convertToInteractive('df-852458f3-c169-4554-8405-815e51df98c3')\"\n",
              "              title=\"Convert this dataframe to an interactive table.\"\n",
              "              style=\"display:none;\">\n",
              "        \n",
              "  <svg xmlns=\"http://www.w3.org/2000/svg\" height=\"24px\"viewBox=\"0 0 24 24\"\n",
              "       width=\"24px\">\n",
              "    <path d=\"M0 0h24v24H0V0z\" fill=\"none\"/>\n",
              "    <path d=\"M18.56 5.44l.94 2.06.94-2.06 2.06-.94-2.06-.94-.94-2.06-.94 2.06-2.06.94zm-11 1L8.5 8.5l.94-2.06 2.06-.94-2.06-.94L8.5 2.5l-.94 2.06-2.06.94zm10 10l.94 2.06.94-2.06 2.06-.94-2.06-.94-.94-2.06-.94 2.06-2.06.94z\"/><path d=\"M17.41 7.96l-1.37-1.37c-.4-.4-.92-.59-1.43-.59-.52 0-1.04.2-1.43.59L10.3 9.45l-7.72 7.72c-.78.78-.78 2.05 0 2.83L4 21.41c.39.39.9.59 1.41.59.51 0 1.02-.2 1.41-.59l7.78-7.78 2.81-2.81c.8-.78.8-2.07 0-2.86zM5.41 20L4 18.59l7.72-7.72 1.47 1.35L5.41 20z\"/>\n",
              "  </svg>\n",
              "      </button>\n",
              "      \n",
              "  <style>\n",
              "    .colab-df-container {\n",
              "      display:flex;\n",
              "      flex-wrap:wrap;\n",
              "      gap: 12px;\n",
              "    }\n",
              "\n",
              "    .colab-df-convert {\n",
              "      background-color: #E8F0FE;\n",
              "      border: none;\n",
              "      border-radius: 50%;\n",
              "      cursor: pointer;\n",
              "      display: none;\n",
              "      fill: #1967D2;\n",
              "      height: 32px;\n",
              "      padding: 0 0 0 0;\n",
              "      width: 32px;\n",
              "    }\n",
              "\n",
              "    .colab-df-convert:hover {\n",
              "      background-color: #E2EBFA;\n",
              "      box-shadow: 0px 1px 2px rgba(60, 64, 67, 0.3), 0px 1px 3px 1px rgba(60, 64, 67, 0.15);\n",
              "      fill: #174EA6;\n",
              "    }\n",
              "\n",
              "    [theme=dark] .colab-df-convert {\n",
              "      background-color: #3B4455;\n",
              "      fill: #D2E3FC;\n",
              "    }\n",
              "\n",
              "    [theme=dark] .colab-df-convert:hover {\n",
              "      background-color: #434B5C;\n",
              "      box-shadow: 0px 1px 3px 1px rgba(0, 0, 0, 0.15);\n",
              "      filter: drop-shadow(0px 1px 2px rgba(0, 0, 0, 0.3));\n",
              "      fill: #FFFFFF;\n",
              "    }\n",
              "  </style>\n",
              "\n",
              "      <script>\n",
              "        const buttonEl =\n",
              "          document.querySelector('#df-852458f3-c169-4554-8405-815e51df98c3 button.colab-df-convert');\n",
              "        buttonEl.style.display =\n",
              "          google.colab.kernel.accessAllowed ? 'block' : 'none';\n",
              "\n",
              "        async function convertToInteractive(key) {\n",
              "          const element = document.querySelector('#df-852458f3-c169-4554-8405-815e51df98c3');\n",
              "          const dataTable =\n",
              "            await google.colab.kernel.invokeFunction('convertToInteractive',\n",
              "                                                     [key], {});\n",
              "          if (!dataTable) return;\n",
              "\n",
              "          const docLinkHtml = 'Like what you see? Visit the ' +\n",
              "            '<a target=\"_blank\" href=https://colab.research.google.com/notebooks/data_table.ipynb>data table notebook</a>'\n",
              "            + ' to learn more about interactive tables.';\n",
              "          element.innerHTML = '';\n",
              "          dataTable['output_type'] = 'display_data';\n",
              "          await google.colab.output.renderOutput(dataTable, element);\n",
              "          const docLink = document.createElement('div');\n",
              "          docLink.innerHTML = docLinkHtml;\n",
              "          element.appendChild(docLink);\n",
              "        }\n",
              "      </script>\n",
              "    </div>\n",
              "  </div>\n",
              "  "
            ]
          },
          "metadata": {},
          "execution_count": 36
        }
      ]
    },
    {
      "cell_type": "code",
      "source": [
        "test.describe()"
      ],
      "metadata": {
        "colab": {
          "base_uri": "https://localhost:8080/",
          "height": 175
        },
        "id": "JL2mb-mko6Mz",
        "outputId": "f804c685-1cdc-44f6-b073-90fc69fa14c7"
      },
      "execution_count": 37,
      "outputs": [
        {
          "output_type": "execute_result",
          "data": {
            "text/plain": [
              "                                   X           y\n",
              "count                           1230        1230\n",
              "unique                           742           4\n",
              "top     : normal single view chest.   impression\n",
              "freq                              55         316"
            ],
            "text/html": [
              "\n",
              "  <div id=\"df-e7cf7aec-8bdc-40a0-86f6-1e1894c01b89\">\n",
              "    <div class=\"colab-df-container\">\n",
              "      <div>\n",
              "<style scoped>\n",
              "    .dataframe tbody tr th:only-of-type {\n",
              "        vertical-align: middle;\n",
              "    }\n",
              "\n",
              "    .dataframe tbody tr th {\n",
              "        vertical-align: top;\n",
              "    }\n",
              "\n",
              "    .dataframe thead th {\n",
              "        text-align: right;\n",
              "    }\n",
              "</style>\n",
              "<table border=\"1\" class=\"dataframe\">\n",
              "  <thead>\n",
              "    <tr style=\"text-align: right;\">\n",
              "      <th></th>\n",
              "      <th>X</th>\n",
              "      <th>y</th>\n",
              "    </tr>\n",
              "  </thead>\n",
              "  <tbody>\n",
              "    <tr>\n",
              "      <th>count</th>\n",
              "      <td>1230</td>\n",
              "      <td>1230</td>\n",
              "    </tr>\n",
              "    <tr>\n",
              "      <th>unique</th>\n",
              "      <td>742</td>\n",
              "      <td>4</td>\n",
              "    </tr>\n",
              "    <tr>\n",
              "      <th>top</th>\n",
              "      <td>: normal single view chest.</td>\n",
              "      <td>impression</td>\n",
              "    </tr>\n",
              "    <tr>\n",
              "      <th>freq</th>\n",
              "      <td>55</td>\n",
              "      <td>316</td>\n",
              "    </tr>\n",
              "  </tbody>\n",
              "</table>\n",
              "</div>\n",
              "      <button class=\"colab-df-convert\" onclick=\"convertToInteractive('df-e7cf7aec-8bdc-40a0-86f6-1e1894c01b89')\"\n",
              "              title=\"Convert this dataframe to an interactive table.\"\n",
              "              style=\"display:none;\">\n",
              "        \n",
              "  <svg xmlns=\"http://www.w3.org/2000/svg\" height=\"24px\"viewBox=\"0 0 24 24\"\n",
              "       width=\"24px\">\n",
              "    <path d=\"M0 0h24v24H0V0z\" fill=\"none\"/>\n",
              "    <path d=\"M18.56 5.44l.94 2.06.94-2.06 2.06-.94-2.06-.94-.94-2.06-.94 2.06-2.06.94zm-11 1L8.5 8.5l.94-2.06 2.06-.94-2.06-.94L8.5 2.5l-.94 2.06-2.06.94zm10 10l.94 2.06.94-2.06 2.06-.94-2.06-.94-.94-2.06-.94 2.06-2.06.94z\"/><path d=\"M17.41 7.96l-1.37-1.37c-.4-.4-.92-.59-1.43-.59-.52 0-1.04.2-1.43.59L10.3 9.45l-7.72 7.72c-.78.78-.78 2.05 0 2.83L4 21.41c.39.39.9.59 1.41.59.51 0 1.02-.2 1.41-.59l7.78-7.78 2.81-2.81c.8-.78.8-2.07 0-2.86zM5.41 20L4 18.59l7.72-7.72 1.47 1.35L5.41 20z\"/>\n",
              "  </svg>\n",
              "      </button>\n",
              "      \n",
              "  <style>\n",
              "    .colab-df-container {\n",
              "      display:flex;\n",
              "      flex-wrap:wrap;\n",
              "      gap: 12px;\n",
              "    }\n",
              "\n",
              "    .colab-df-convert {\n",
              "      background-color: #E8F0FE;\n",
              "      border: none;\n",
              "      border-radius: 50%;\n",
              "      cursor: pointer;\n",
              "      display: none;\n",
              "      fill: #1967D2;\n",
              "      height: 32px;\n",
              "      padding: 0 0 0 0;\n",
              "      width: 32px;\n",
              "    }\n",
              "\n",
              "    .colab-df-convert:hover {\n",
              "      background-color: #E2EBFA;\n",
              "      box-shadow: 0px 1px 2px rgba(60, 64, 67, 0.3), 0px 1px 3px 1px rgba(60, 64, 67, 0.15);\n",
              "      fill: #174EA6;\n",
              "    }\n",
              "\n",
              "    [theme=dark] .colab-df-convert {\n",
              "      background-color: #3B4455;\n",
              "      fill: #D2E3FC;\n",
              "    }\n",
              "\n",
              "    [theme=dark] .colab-df-convert:hover {\n",
              "      background-color: #434B5C;\n",
              "      box-shadow: 0px 1px 3px 1px rgba(0, 0, 0, 0.15);\n",
              "      filter: drop-shadow(0px 1px 2px rgba(0, 0, 0, 0.3));\n",
              "      fill: #FFFFFF;\n",
              "    }\n",
              "  </style>\n",
              "\n",
              "      <script>\n",
              "        const buttonEl =\n",
              "          document.querySelector('#df-e7cf7aec-8bdc-40a0-86f6-1e1894c01b89 button.colab-df-convert');\n",
              "        buttonEl.style.display =\n",
              "          google.colab.kernel.accessAllowed ? 'block' : 'none';\n",
              "\n",
              "        async function convertToInteractive(key) {\n",
              "          const element = document.querySelector('#df-e7cf7aec-8bdc-40a0-86f6-1e1894c01b89');\n",
              "          const dataTable =\n",
              "            await google.colab.kernel.invokeFunction('convertToInteractive',\n",
              "                                                     [key], {});\n",
              "          if (!dataTable) return;\n",
              "\n",
              "          const docLinkHtml = 'Like what you see? Visit the ' +\n",
              "            '<a target=\"_blank\" href=https://colab.research.google.com/notebooks/data_table.ipynb>data table notebook</a>'\n",
              "            + ' to learn more about interactive tables.';\n",
              "          element.innerHTML = '';\n",
              "          dataTable['output_type'] = 'display_data';\n",
              "          await google.colab.output.renderOutput(dataTable, element);\n",
              "          const docLink = document.createElement('div');\n",
              "          docLink.innerHTML = docLinkHtml;\n",
              "          element.appendChild(docLink);\n",
              "        }\n",
              "      </script>\n",
              "    </div>\n",
              "  </div>\n",
              "  "
            ]
          },
          "metadata": {},
          "execution_count": 37
        }
      ]
    },
    {
      "cell_type": "code",
      "source": [
        "train_text = train['X']"
      ],
      "metadata": {
        "id": "UN-D_npjSt7h"
      },
      "execution_count": 38,
      "outputs": []
    },
    {
      "cell_type": "code",
      "source": [
        "train.shape"
      ],
      "metadata": {
        "colab": {
          "base_uri": "https://localhost:8080/"
        },
        "id": "ISUqAZJxYjd9",
        "outputId": "5f732741-9803-44b6-b073-b5b21c6cb340"
      },
      "execution_count": 39,
      "outputs": [
        {
          "output_type": "execute_result",
          "data": {
            "text/plain": [
              "(2570, 2)"
            ]
          },
          "metadata": {},
          "execution_count": 39
        }
      ]
    },
    {
      "cell_type": "code",
      "source": [
        "test_text = test['X']\n",
        "test.shape"
      ],
      "metadata": {
        "colab": {
          "base_uri": "https://localhost:8080/"
        },
        "id": "2uEqQSB7Tkp3",
        "outputId": "60331696-7c1d-4f56-b934-1e52638790e3"
      },
      "execution_count": 40,
      "outputs": [
        {
          "output_type": "execute_result",
          "data": {
            "text/plain": [
              "(1230, 2)"
            ]
          },
          "metadata": {},
          "execution_count": 40
        }
      ]
    },
    {
      "cell_type": "code",
      "source": [
        "y = train['y']\n",
        "y_saved = y"
      ],
      "metadata": {
        "id": "7CGkaA1USJ7G"
      },
      "execution_count": 41,
      "outputs": []
    },
    {
      "cell_type": "code",
      "source": [
        "print(y)"
      ],
      "metadata": {
        "colab": {
          "base_uri": "https://localhost:8080/"
        },
        "id": "fz8kov9zYCBk",
        "outputId": "72a13e43-f344-4c5c-f6be-62746d11422f"
      },
      "execution_count": 42,
      "outputs": [
        {
          "output_type": "stream",
          "name": "stdout",
          "text": [
            "1         findings\n",
            "2         findings\n",
            "3         findings\n",
            "4         findings\n",
            "5         findings\n",
            "           ...    \n",
            "3795    impression\n",
            "3796    impression\n",
            "3797    impression\n",
            "3798    impression\n",
            "3799    impression\n",
            "Name: y, Length: 2570, dtype: object\n"
          ]
        }
      ]
    },
    {
      "cell_type": "code",
      "source": [
        "all_text = pd.concat([train_text, test_text])"
      ],
      "metadata": {
        "id": "nUPHjMJKPJnX"
      },
      "execution_count": 43,
      "outputs": []
    },
    {
      "cell_type": "code",
      "source": [
        "# tf-idf vectors"
      ],
      "metadata": {
        "id": "Q0-pTX3TTJI_"
      },
      "execution_count": 44,
      "outputs": []
    },
    {
      "cell_type": "code",
      "source": [
        "word_vectorizer = TfidfVectorizer(analyzer='word', token_pattern=r'\\w{1,}', sublinear_tf=True, strip_accents='unicode', \n",
        "                                  stop_words='english', ngram_range=(1, 1), max_features=100)\n",
        "word_vectorizer.fit(train_text)\n",
        "\n",
        "train_word_features = word_vectorizer.transform(train_text)"
      ],
      "metadata": {
        "id": "LHul-RyLNhGI"
      },
      "execution_count": 45,
      "outputs": []
    },
    {
      "cell_type": "code",
      "source": [
        "train_features = hstack([train_word_features])"
      ],
      "metadata": {
        "id": "18SUTCFpTPQE"
      },
      "execution_count": 46,
      "outputs": []
    },
    {
      "cell_type": "code",
      "source": [
        "# hyperparameter tuning of logistic regression"
      ],
      "metadata": {
        "id": "fKgkiHWqWsOo"
      },
      "execution_count": 47,
      "outputs": []
    },
    {
      "cell_type": "code",
      "source": [
        "train.describe()\n",
        "\n",
        "test.describe()\n",
        "\n",
        "train_text = train['X']\n",
        "\n",
        "train.shape\n",
        "\n",
        "test_text = test['X']\n",
        "test.shape\n",
        "\n",
        "y = train['y']\n",
        "\n",
        "all_text = pd.concat([train_text, test_text])\n",
        "\n",
        "train_text = train['X']\n",
        "\n",
        "train.shape\n",
        "\n",
        "test_text = test['X']\n",
        "test.shape\n",
        "\n",
        "y = train['y']\n",
        "\n",
        "all_text = pd.concat([train_text, test_text])\n",
        "\n",
        "word_vectorizer = TfidfVectorizer(analyzer='word', token_pattern=r'\\w{1,}', sublinear_tf=True, strip_accents='unicode', \n",
        "                                  stop_words='english', ngram_range=(1, 1), max_features=100)\n",
        "word_vectorizer.fit(train_text)\n",
        "\n",
        "train_word_features = word_vectorizer.transform(train_text)\n",
        "\n",
        "train_features = hstack([train_word_features])\n",
        "\n",
        "X_train, X_test, y_train, y_test = train_test_split(train_features, y,test_size=0.3 ,random_state=1234)\n",
        "\n",
        "\n",
        "lr_model = LogisticRegression(random_state=1234)\n",
        "param_dict = {'C': [0.001, 0.01, 0.1, 1, 10],\n",
        "             'solver': ['sag', 'lbfgs', 'saga']}\n",
        "\n",
        "start = time()\n",
        "grid_search = GridSearchCV(lr_model, param_dict)\n",
        "\n",
        "grid_search.fit(X_train, y_train.astype(str))\n",
        "print(\"GridSearch took %.2f seconds to complete.\" % (time()-start))\n",
        "display(grid_search.best_params_)\n",
        "print(\"Cross-Validated Score of the Best Estimator: %.3f\" % grid_search.best_score_)"
      ],
      "metadata": {
        "colab": {
          "base_uri": "https://localhost:8080/",
          "height": 71
        },
        "id": "nTIFaPjHWuhh",
        "outputId": "b8dee5d5-2eaa-4d3a-9394-6fcf0085c0fd"
      },
      "execution_count": 99,
      "outputs": [
        {
          "output_type": "stream",
          "name": "stdout",
          "text": [
            "GridSearch took 2.22 seconds to complete.\n"
          ]
        },
        {
          "output_type": "display_data",
          "data": {
            "text/plain": [
              "{'C': 10, 'solver': 'sag'}"
            ]
          },
          "metadata": {}
        },
        {
          "output_type": "stream",
          "name": "stdout",
          "text": [
            "Cross-Validated Score of the Best Estimator: 0.988\n"
          ]
        }
      ]
    },
    {
      "cell_type": "code",
      "source": [
        "lr=LogisticRegression(C=1, solver ='saga')\n",
        "lr.fit(X_train, y_train)\n",
        "lr_preds=lr.predict(X_test)\n",
        "\n",
        "print('confustion matrix:', '\\n', 'fin. cli. exa. imp.', '\\n', confusion_matrix(y_test, lr_preds, labels=[\"findings\", \"clinicaldata\", \"examname\", \"impression\"]), '\\n\\n')\n",
        "\n",
        "print('classification report:', '\\n', classification_report(y_test, lr_preds), '\\n\\n')\n",
        "\n",
        "print(\"Accuracy Score: %.3f\" % accuracy_score(y_test, lr_preds))"
      ],
      "metadata": {
        "colab": {
          "base_uri": "https://localhost:8080/"
        },
        "id": "ghkqE3x0TPSZ",
        "outputId": "f98148f9-733b-49e1-a209-846f22887dfd"
      },
      "execution_count": 49,
      "outputs": [
        {
          "output_type": "stream",
          "name": "stdout",
          "text": [
            "confustion matrix: \n",
            " fin. cli. exa. imp. \n",
            " [[206   1   0   2]\n",
            " [  1 185   2   1]\n",
            " [  0   0 163   0]\n",
            " [  3   2   0 205]] \n",
            "\n",
            "\n",
            "classification report: \n",
            "               precision    recall  f1-score   support\n",
            "\n",
            "clinicaldata       0.98      0.98      0.98       189\n",
            "    examname       0.99      1.00      0.99       163\n",
            "    findings       0.98      0.99      0.98       209\n",
            "  impression       0.99      0.98      0.98       210\n",
            "\n",
            "    accuracy                           0.98       771\n",
            "   macro avg       0.98      0.99      0.98       771\n",
            "weighted avg       0.98      0.98      0.98       771\n",
            " \n",
            "\n",
            "\n",
            "Accuracy Score: 0.984\n"
          ]
        }
      ]
    },
    {
      "cell_type": "code",
      "source": [
        "# precision: measure of a classifier’s exactness\n",
        "# per class, ratio of true positives to the sum of true and false positives\n",
        "# “for all instances classified positive, what percent was correct?”"
      ],
      "metadata": {
        "id": "gjk4I5yCtWCm"
      },
      "execution_count": 50,
      "outputs": []
    },
    {
      "cell_type": "code",
      "source": [
        "# recall: measure of the classifier’s completeness\n",
        "# can a classifier correctly find all positive instances?\n",
        "# per class, ratio of true positives to the sum of true positives and false negatives\n",
        "# “for all instances that were actually positive, what percent was classified correctly?”"
      ],
      "metadata": {
        "id": "tOdZsvgTtWIA"
      },
      "execution_count": 51,
      "outputs": []
    },
    {
      "cell_type": "code",
      "source": [
        "# f1 score: weighted harmonic mean of precision and recall \n",
        "# best score is 1.0 and worst is 0.0\n",
        "# F1 typically lower than accuracy \n",
        "# weighted average of F1 better for comparison of classifier models (not accuracy)"
      ],
      "metadata": {
        "id": "v4QhRj99siFk"
      },
      "execution_count": 52,
      "outputs": []
    },
    {
      "cell_type": "code",
      "source": [
        "# support: number of actual occurrences of the class in the specified dataset\n",
        "# imbalanced support in training data => possible structural weaknesses in classifier reported scores\n",
        "# could indicate the need for stratified sampling or rebalancing\n",
        "# doesn’t change between models, does diagnose evaluation process"
      ],
      "metadata": {
        "id": "c6KbWBWAtZuV"
      },
      "execution_count": 53,
      "outputs": []
    },
    {
      "cell_type": "code",
      "source": [
        "from sklearn.metrics import confusion_matrix, ConfusionMatrixDisplay"
      ],
      "metadata": {
        "id": "8P1KdHAEjbkd"
      },
      "execution_count": 50,
      "outputs": []
    },
    {
      "cell_type": "code",
      "source": [
        "cm = confusion_matrix(y_test, lr_preds, labels=lr.classes_)\n",
        "disp = ConfusionMatrixDisplay(confusion_matrix=cm, display_labels=lr.classes_)\n",
        "plt.figure(figsize=(10, 10))\n",
        "disp.plot(cmap='inferno', xticks_rotation='vertical')\n",
        "plt.title('Confusion matrix of radiology report data')\n",
        "plt.show()"
      ],
      "metadata": {
        "colab": {
          "base_uri": "https://localhost:8080/",
          "height": 361
        },
        "id": "CRrw2ypkjGNW",
        "outputId": "0820ee68-079d-4a8c-deb0-909375bf48df"
      },
      "execution_count": 51,
      "outputs": [
        {
          "output_type": "display_data",
          "data": {
            "text/plain": [
              "<Figure size 720x720 with 0 Axes>"
            ]
          },
          "metadata": {}
        },
        {
          "output_type": "display_data",
          "data": {
            "text/plain": [
              "<Figure size 432x288 with 2 Axes>"
            ],
            "image/png": "[encoded data removed]"
          },
          "metadata": {
            "needs_background": "light"
          }
        }
      ]
    },
    {
      "cell_type": "code",
      "source": [
        "# Modelling report sections from text\n",
        "word_vectorizer = TfidfVectorizer(analyzer='word', token_pattern=r'\\w{1,}', sublinear_tf=True, strip_accents='unicode', \n",
        "                                  stop_words='english', ngram_range=(1, 1), max_features=10000)\n",
        "word_vectorizer.fit(all_text)\n",
        "\n",
        "train_word_features = word_vectorizer.transform(train_text)\n",
        "test_word_features = word_vectorizer.transform(test_text)"
      ],
      "metadata": {
        "id": "NgCOQKgyTPUe"
      },
      "execution_count": 52,
      "outputs": []
    },
    {
      "cell_type": "code",
      "source": [
        "train_features = hstack([train_word_features])\n",
        "test_features = hstack([test_word_features])"
      ],
      "metadata": {
        "id": "yISSXP0VW892"
      },
      "execution_count": 53,
      "outputs": []
    },
    {
      "cell_type": "code",
      "source": [
        "lr=LogisticRegression(C=1,solver='saga')\n",
        "lr.fit(train_features,y)\n",
        "final_preds=lr.predict(test_features)"
      ],
      "metadata": {
        "id": "Hff5GY2aW-Bi"
      },
      "execution_count": 54,
      "outputs": []
    },
    {
      "cell_type": "code",
      "source": [
        "test['y'] = final_preds\n",
        "test = test[['X', 'y']]"
      ],
      "metadata": {
        "id": "mtg_L0LPW-O0"
      },
      "execution_count": 55,
      "outputs": []
    },
    {
      "cell_type": "code",
      "source": [
        "test['y'].value_counts()"
      ],
      "metadata": {
        "colab": {
          "base_uri": "https://localhost:8080/"
        },
        "id": "UW4Nh4JWf9O1",
        "outputId": "e0d912ed-d3e2-4b42-d5fe-48c93fd20fa2"
      },
      "execution_count": 56,
      "outputs": [
        {
          "output_type": "execute_result",
          "data": {
            "text/plain": [
              "impression      313\n",
              "clinicaldata    310\n",
              "examname        307\n",
              "findings        300\n",
              "Name: y, dtype: int64"
            ]
          },
          "metadata": {},
          "execution_count": 56
        }
      ]
    },
    {
      "cell_type": "code",
      "source": [
        "## Word2Vec Model Training"
      ],
      "metadata": {
        "id": "JAcJr2OQ66xb"
      },
      "execution_count": 57,
      "outputs": []
    },
    {
      "cell_type": "code",
      "source": [
        "from gensim.models import Word2Vec, FastText\n",
        "import pandas as pd\n",
        "import re\n",
        "\n",
        "from sklearn.decomposition import PCA\n",
        "\n",
        "from matplotlib import pyplot as plt\n",
        "import plotly.graph_objects as go\n",
        "\n",
        "import numpy as np\n",
        "\n",
        "import warnings\n",
        "warnings.filterwarnings('ignore')\n",
        "\n",
        "df = pd.read_csv('open_ave_data.csv')\n",
        "#df['labels'] = y_saved"
      ],
      "metadata": {
        "id": "YjjudWB0SmP-"
      },
      "execution_count": 58,
      "outputs": []
    },
    {
      "cell_type": "code",
      "source": [
        "df.head()\n",
        "\n",
        "#df['ReportText'] = df['ReportText'].str.replace('findings', '')\n",
        "#df['clinicaldata'] = df['ReportText'].str.replace('clinical', '')\n",
        "#df['clinicaldata'] = df['ReportText'].str.replace('clinical data', '')\n",
        "#df['clinicaldata'] = df['ReportText'].str.replace('indication', '')\n",
        "#df['clinicaldata'] = df['ReportText'].str.replace('history', '')\n",
        "#df['clinicaldata'] = df['ReportText'].str.replace('data', '')\n",
        "#df['clinicaldata'] = df['ReportText'].str.replace('information', '')\n",
        "#df['ReportText'] = df['ReportText'].str.replace('exam', '')\n",
        "#df['ReportText'] = df['ReportText'].str.replace('impression', '')\n",
        "\n"
      ],
      "metadata": {
        "colab": {
          "base_uri": "https://localhost:8080/",
          "height": 354
        },
        "id": "h4-EHrt2TLpw",
        "outputId": "c25e3894-f76f-4efd-d50c-da03a0b3a585"
      },
      "execution_count": 59,
      "outputs": [
        {
          "output_type": "execute_result",
          "data": {
            "text/plain": [
              "   Unnamed: 0                                         ReportText  \\\n",
              "0           0  EXAM: CHEST RADIOGRAPHY EXAM DATE: 06/01/2019 ...   \n",
              "1           1  EXAM: CHEST RADIOGRAPHY EXAM DATE: 05/23/2020 ...   \n",
              "2           2  EXAM: CHEST RADIOGRAPHY EXAM DATE: 12/13/2019 ...   \n",
              "3           3  Exam: - CHEST-PORTABLE History: Chest pain Com...   \n",
              "4           4  EXAM: CHEST RADIOGRAPHY EXAM DATE: 06/17/2021 ...   \n",
              "\n",
              "                                            findings  \\\n",
              "0  FINDINGS: Lungs/Pleura: No focal opacities evi...   \n",
              "1  FINDINGS: Lungs/Pleura: No focal opacities evi...   \n",
              "2  FINDINGS: Lungs/Pleura: No focal opacities evi...   \n",
              "3  Findings: Heart size appears normal. Lungs cle...   \n",
              "4  FINDINGS: Lungs/Pleura: No focal opacities evi...   \n",
              "\n",
              "                                        clinicaldata  \\\n",
              "0                      CLINICAL HISTORY: Cough. \\n\\n   \n",
              "1                 CLINICAL HISTORY: CHEST PAIN. \\n\\n   \n",
              "2                 CLINICAL HISTORY: CHEST PAIN. \\n\\n   \n",
              "3                           History: Chest pain \\n\\n   \n",
              "4  CLINICAL HISTORY: CHEST PAIN, SHORTNESS OF BRE...   \n",
              "\n",
              "                                            ExamName  \\\n",
              "0  EXAM: CHEST RADIOGRAPHY EXAM DATE: 06/01/2019 ...   \n",
              "1  EXAM: CHEST RADIOGRAPHY EXAM DATE: 05/23/2020 ...   \n",
              "2  EXAM: CHEST RADIOGRAPHY EXAM DATE: 12/13/2019 ...   \n",
              "3         Exam: - CHEST-PORTABLE\\n\\nComparison: None   \n",
              "4  EXAM: CHEST RADIOGRAPHY EXAM DATE: 06/17/2021 ...   \n",
              "\n",
              "                                          impression  \n",
              "0      IMPRESSION: Normal 2-view chest radiography.   \n",
              "1  IMPRESSION: No acute cardiopulmonary abnormali...  \n",
              "2     IMPRESSION: No acute cardiopulmonary process.   \n",
              "3                            Impression: Lungs clear  \n",
              "4             IMPRESSION: Normal single view chest.   "
            ],
            "text/html": [
              "\n",
              "  <div id=\"df-b8349e30-4d33-47b7-ad0d-cb5df951289a\">\n",
              "    <div class=\"colab-df-container\">\n",
              "      <div>\n",
              "<style scoped>\n",
              "    .dataframe tbody tr th:only-of-type {\n",
              "        vertical-align: middle;\n",
              "    }\n",
              "\n",
              "    .dataframe tbody tr th {\n",
              "        vertical-align: top;\n",
              "    }\n",
              "\n",
              "    .dataframe thead th {\n",
              "        text-align: right;\n",
              "    }\n",
              "</style>\n",
              "<table border=\"1\" class=\"dataframe\">\n",
              "  <thead>\n",
              "    <tr style=\"text-align: right;\">\n",
              "      <th></th>\n",
              "      <th>Unnamed: 0</th>\n",
              "      <th>ReportText</th>\n",
              "      <th>findings</th>\n",
              "      <th>clinicaldata</th>\n",
              "      <th>ExamName</th>\n",
              "      <th>impression</th>\n",
              "    </tr>\n",
              "  </thead>\n",
              "  <tbody>\n",
              "    <tr>\n",
              "      <th>0</th>\n",
              "      <td>0</td>\n",
              "      <td>EXAM: CHEST RADIOGRAPHY EXAM DATE: 06/01/2019 ...</td>\n",
              "      <td>FINDINGS: Lungs/Pleura: No focal opacities evi...</td>\n",
              "      <td>CLINICAL HISTORY: Cough. \\n\\n</td>\n",
              "      <td>EXAM: CHEST RADIOGRAPHY EXAM DATE: 06/01/2019 ...</td>\n",
              "      <td>IMPRESSION: Normal 2-view chest radiography.</td>\n",
              "    </tr>\n",
              "    <tr>\n",
              "      <th>1</th>\n",
              "      <td>1</td>\n",
              "      <td>EXAM: CHEST RADIOGRAPHY EXAM DATE: 05/23/2020 ...</td>\n",
              "      <td>FINDINGS: Lungs/Pleura: No focal opacities evi...</td>\n",
              "      <td>CLINICAL HISTORY: CHEST PAIN. \\n\\n</td>\n",
              "      <td>EXAM: CHEST RADIOGRAPHY EXAM DATE: 05/23/2020 ...</td>\n",
              "      <td>IMPRESSION: No acute cardiopulmonary abnormali...</td>\n",
              "    </tr>\n",
              "    <tr>\n",
              "      <th>2</th>\n",
              "      <td>2</td>\n",
              "      <td>EXAM: CHEST RADIOGRAPHY EXAM DATE: 12/13/2019 ...</td>\n",
              "      <td>FINDINGS: Lungs/Pleura: No focal opacities evi...</td>\n",
              "      <td>CLINICAL HISTORY: CHEST PAIN. \\n\\n</td>\n",
              "      <td>EXAM: CHEST RADIOGRAPHY EXAM DATE: 12/13/2019 ...</td>\n",
              "      <td>IMPRESSION: No acute cardiopulmonary process.</td>\n",
              "    </tr>\n",
              "    <tr>\n",
              "      <th>3</th>\n",
              "      <td>3</td>\n",
              "      <td>Exam: - CHEST-PORTABLE History: Chest pain Com...</td>\n",
              "      <td>Findings: Heart size appears normal. Lungs cle...</td>\n",
              "      <td>History: Chest pain \\n\\n</td>\n",
              "      <td>Exam: - CHEST-PORTABLE\\n\\nComparison: None</td>\n",
              "      <td>Impression: Lungs clear</td>\n",
              "    </tr>\n",
              "    <tr>\n",
              "      <th>4</th>\n",
              "      <td>4</td>\n",
              "      <td>EXAM: CHEST RADIOGRAPHY EXAM DATE: 06/17/2021 ...</td>\n",
              "      <td>FINDINGS: Lungs/Pleura: No focal opacities evi...</td>\n",
              "      <td>CLINICAL HISTORY: CHEST PAIN, SHORTNESS OF BRE...</td>\n",
              "      <td>EXAM: CHEST RADIOGRAPHY EXAM DATE: 06/17/2021 ...</td>\n",
              "      <td>IMPRESSION: Normal single view chest.</td>\n",
              "    </tr>\n",
              "  </tbody>\n",
              "</table>\n",
              "</div>\n",
              "      <button class=\"colab-df-convert\" onclick=\"convertToInteractive('df-b8349e30-4d33-47b7-ad0d-cb5df951289a')\"\n",
              "              title=\"Convert this dataframe to an interactive table.\"\n",
              "              style=\"display:none;\">\n",
              "        \n",
              "  <svg xmlns=\"http://www.w3.org/2000/svg\" height=\"24px\"viewBox=\"0 0 24 24\"\n",
              "       width=\"24px\">\n",
              "    <path d=\"M0 0h24v24H0V0z\" fill=\"none\"/>\n",
              "    <path d=\"M18.56 5.44l.94 2.06.94-2.06 2.06-.94-2.06-.94-.94-2.06-.94 2.06-2.06.94zm-11 1L8.5 8.5l.94-2.06 2.06-.94-2.06-.94L8.5 2.5l-.94 2.06-2.06.94zm10 10l.94 2.06.94-2.06 2.06-.94-2.06-.94-.94-2.06-.94 2.06-2.06.94z\"/><path d=\"M17.41 7.96l-1.37-1.37c-.4-.4-.92-.59-1.43-.59-.52 0-1.04.2-1.43.59L10.3 9.45l-7.72 7.72c-.78.78-.78 2.05 0 2.83L4 21.41c.39.39.9.59 1.41.59.51 0 1.02-.2 1.41-.59l7.78-7.78 2.81-2.81c.8-.78.8-2.07 0-2.86zM5.41 20L4 18.59l7.72-7.72 1.47 1.35L5.41 20z\"/>\n",
              "  </svg>\n",
              "      </button>\n",
              "      \n",
              "  <style>\n",
              "    .colab-df-container {\n",
              "      display:flex;\n",
              "      flex-wrap:wrap;\n",
              "      gap: 12px;\n",
              "    }\n",
              "\n",
              "    .colab-df-convert {\n",
              "      background-color: #E8F0FE;\n",
              "      border: none;\n",
              "      border-radius: 50%;\n",
              "      cursor: pointer;\n",
              "      display: none;\n",
              "      fill: #1967D2;\n",
              "      height: 32px;\n",
              "      padding: 0 0 0 0;\n",
              "      width: 32px;\n",
              "    }\n",
              "\n",
              "    .colab-df-convert:hover {\n",
              "      background-color: #E2EBFA;\n",
              "      box-shadow: 0px 1px 2px rgba(60, 64, 67, 0.3), 0px 1px 3px 1px rgba(60, 64, 67, 0.15);\n",
              "      fill: #174EA6;\n",
              "    }\n",
              "\n",
              "    [theme=dark] .colab-df-convert {\n",
              "      background-color: #3B4455;\n",
              "      fill: #D2E3FC;\n",
              "    }\n",
              "\n",
              "    [theme=dark] .colab-df-convert:hover {\n",
              "      background-color: #434B5C;\n",
              "      box-shadow: 0px 1px 3px 1px rgba(0, 0, 0, 0.15);\n",
              "      filter: drop-shadow(0px 1px 2px rgba(0, 0, 0, 0.3));\n",
              "      fill: #FFFFFF;\n",
              "    }\n",
              "  </style>\n",
              "\n",
              "      <script>\n",
              "        const buttonEl =\n",
              "          document.querySelector('#df-b8349e30-4d33-47b7-ad0d-cb5df951289a button.colab-df-convert');\n",
              "        buttonEl.style.display =\n",
              "          google.colab.kernel.accessAllowed ? 'block' : 'none';\n",
              "\n",
              "        async function convertToInteractive(key) {\n",
              "          const element = document.querySelector('#df-b8349e30-4d33-47b7-ad0d-cb5df951289a');\n",
              "          const dataTable =\n",
              "            await google.colab.kernel.invokeFunction('convertToInteractive',\n",
              "                                                     [key], {});\n",
              "          if (!dataTable) return;\n",
              "\n",
              "          const docLinkHtml = 'Like what you see? Visit the ' +\n",
              "            '<a target=\"_blank\" href=https://colab.research.google.com/notebooks/data_table.ipynb>data table notebook</a>'\n",
              "            + ' to learn more about interactive tables.';\n",
              "          element.innerHTML = '';\n",
              "          dataTable['output_type'] = 'display_data';\n",
              "          await google.colab.output.renderOutput(dataTable, element);\n",
              "          const docLink = document.createElement('div');\n",
              "          docLink.innerHTML = docLinkHtml;\n",
              "          element.appendChild(docLink);\n",
              "        }\n",
              "      </script>\n",
              "    </div>\n",
              "  </div>\n",
              "  "
            ]
          },
          "metadata": {},
          "execution_count": 59
        }
      ]
    },
    {
      "cell_type": "code",
      "source": [
        "new_findings = [word for line in findings for word in line.split()]\n",
        "new_findings = [*set(new_findings)]"
      ],
      "metadata": {
        "id": "hq2BsypChuql"
      },
      "execution_count": 67,
      "outputs": []
    },
    {
      "cell_type": "code",
      "source": [
        "# Word Vectors of all report text\n",
        "\n",
        "clean = []\n",
        "for w in range(len(df.ReportText)):\n",
        "   desc = df['ReportText'][w].lower()\n",
        "\n",
        "   #remove punctuation\n",
        "   desc = re.sub('[^a-zA-Z]', ' ', desc)\n",
        "\n",
        "   #remove tags\n",
        "   desc=re.sub(\"&lt;:/?.*?&gt;\",\" &lt;&gt; \",desc)\n",
        "\n",
        "   #remove digits and special chars\n",
        "   desc=re.sub(\"(\\\\d|\\\\W)+\",\" \",desc)\n",
        "   clean.append(desc)\n",
        "\n",
        "df['clean'] = clean\n",
        "\n",
        "df['clean'] = df['clean'].str.replace('findings', '')\n",
        "df['clean'] = df['clean'].str.replace('clinical', '')\n",
        "df['clean'] = df['clean'].str.replace('clinical data', '')\n",
        "df['clean'] = df['clean'].str.replace('exam', '')\n",
        "df['clean'] = df['clean'].str.replace('impression', '')\n",
        "df['clean'] = df['clean'].str.replace('history', '')\n",
        "\n",
        "\n",
        "df.head()\n",
        "\n",
        "corpus = []\n",
        "for col in df.clean:\n",
        "   word_list = str(col).split(\" \")\n",
        "   corpus.append(word_list)\n",
        "\n",
        "#show first value\n",
        "corpus[0:1]\n",
        "\n",
        "#generate vectors from corpus\n",
        "model = Word2Vec(corpus, min_count=1, vector_size = 1000)\n",
        "\n",
        "X = model.wv.vectors\n",
        "#X = model[model.wv.key_to_index]\n",
        "pca = PCA(n_components=2)\n",
        "\n",
        "result = pca.fit_transform(X)\n",
        "\n",
        "# create a scatter plot of the projection\n",
        "plt.scatter(result[:, 0], result[:, 1])\n",
        "words = list(model.wv.key_to_index)\n",
        "\n",
        "for i, word in enumerate(words):\n",
        "   plt.annotate(word, xy=(result[i, 0], result[i, 1]))\n",
        "\n",
        "plt.show()"
      ],
      "metadata": {
        "colab": {
          "base_uri": "https://localhost:8080/",
          "height": 265
        },
        "id": "tUXLRth_boKw",
        "outputId": "58630da4-1ae9-484e-fcf9-51bef1b3ed6d"
      },
      "execution_count": 82,
      "outputs": [
        {
          "output_type": "display_data",
          "data": {
            "text/plain": [
              "<Figure size 432x288 with 1 Axes>"
            ],
            "image/png": "[encoded data removed]"
          },
          "metadata": {
            "needs_background": "light"
          }
        }
      ]
    },
    {
      "cell_type": "code",
      "source": [
        "df.head()"
      ],
      "metadata": {
        "colab": {
          "base_uri": "https://localhost:8080/",
          "height": 441
        },
        "id": "dJDkktexemeP",
        "outputId": "259cf350-582b-4794-af3a-ddb65664b1a9"
      },
      "execution_count": 83,
      "outputs": [
        {
          "output_type": "execute_result",
          "data": {
            "text/plain": [
              "   Unnamed: 0                                         ReportText  \\\n",
              "0           0  EXAM: CHEST RADIOGRAPHY EXAM DATE: 06/01/2019 ...   \n",
              "1           1  EXAM: CHEST RADIOGRAPHY EXAM DATE: 05/23/2020 ...   \n",
              "2           2  EXAM: CHEST RADIOGRAPHY EXAM DATE: 12/13/2019 ...   \n",
              "3           3  Exam: - CHEST-PORTABLE History: Chest pain Com...   \n",
              "4           4  EXAM: CHEST RADIOGRAPHY EXAM DATE: 06/17/2021 ...   \n",
              "\n",
              "                                            findings  \\\n",
              "0  FINDINGS: Lungs/Pleura: No focal opacities evi...   \n",
              "1  FINDINGS: Lungs/Pleura: No focal opacities evi...   \n",
              "2  FINDINGS: Lungs/Pleura: No focal opacities evi...   \n",
              "3  Findings: Heart size appears normal. Lungs cle...   \n",
              "4  FINDINGS: Lungs/Pleura: No focal opacities evi...   \n",
              "\n",
              "                                        clinicaldata  \\\n",
              "0                      CLINICAL HISTORY: Cough. \\n\\n   \n",
              "1                 CLINICAL HISTORY: CHEST PAIN. \\n\\n   \n",
              "2                 CLINICAL HISTORY: CHEST PAIN. \\n\\n   \n",
              "3                           History: Chest pain \\n\\n   \n",
              "4  CLINICAL HISTORY: CHEST PAIN, SHORTNESS OF BRE...   \n",
              "\n",
              "                                            ExamName  \\\n",
              "0  EXAM: CHEST RADIOGRAPHY EXAM DATE: 06/01/2019 ...   \n",
              "1  EXAM: CHEST RADIOGRAPHY EXAM DATE: 05/23/2020 ...   \n",
              "2  EXAM: CHEST RADIOGRAPHY EXAM DATE: 12/13/2019 ...   \n",
              "3         Exam: - CHEST-PORTABLE\\n\\nComparison: None   \n",
              "4  EXAM: CHEST RADIOGRAPHY EXAM DATE: 06/17/2021 ...   \n",
              "\n",
              "                                          impression  \\\n",
              "0      IMPRESSION: Normal 2-view chest radiography.    \n",
              "1  IMPRESSION: No acute cardiopulmonary abnormali...   \n",
              "2     IMPRESSION: No acute cardiopulmonary process.    \n",
              "3                            Impression: Lungs clear   \n",
              "4             IMPRESSION: Normal single view chest.    \n",
              "\n",
              "                                               clean  \n",
              "0   chest radiography  date pm  history cough com...  \n",
              "1   chest radiography  date pm  history chest pai...  \n",
              "2   chest radiography  date pm  history chest pai...  \n",
              "3   chest portable history chest pain comparison ...  \n",
              "4   chest radiography  date pm  history chest pai...  "
            ],
            "text/html": [
              "\n",
              "  <div id=\"df-5b8795b9-eec7-4b76-afe7-cc32842da375\">\n",
              "    <div class=\"colab-df-container\">\n",
              "      <div>\n",
              "<style scoped>\n",
              "    .dataframe tbody tr th:only-of-type {\n",
              "        vertical-align: middle;\n",
              "    }\n",
              "\n",
              "    .dataframe tbody tr th {\n",
              "        vertical-align: top;\n",
              "    }\n",
              "\n",
              "    .dataframe thead th {\n",
              "        text-align: right;\n",
              "    }\n",
              "</style>\n",
              "<table border=\"1\" class=\"dataframe\">\n",
              "  <thead>\n",
              "    <tr style=\"text-align: right;\">\n",
              "      <th></th>\n",
              "      <th>Unnamed: 0</th>\n",
              "      <th>ReportText</th>\n",
              "      <th>findings</th>\n",
              "      <th>clinicaldata</th>\n",
              "      <th>ExamName</th>\n",
              "      <th>impression</th>\n",
              "      <th>clean</th>\n",
              "    </tr>\n",
              "  </thead>\n",
              "  <tbody>\n",
              "    <tr>\n",
              "      <th>0</th>\n",
              "      <td>0</td>\n",
              "      <td>EXAM: CHEST RADIOGRAPHY EXAM DATE: 06/01/2019 ...</td>\n",
              "      <td>FINDINGS: Lungs/Pleura: No focal opacities evi...</td>\n",
              "      <td>CLINICAL HISTORY: Cough. \\n\\n</td>\n",
              "      <td>EXAM: CHEST RADIOGRAPHY EXAM DATE: 06/01/2019 ...</td>\n",
              "      <td>IMPRESSION: Normal 2-view chest radiography.</td>\n",
              "      <td>chest radiography  date pm  history cough com...</td>\n",
              "    </tr>\n",
              "    <tr>\n",
              "      <th>1</th>\n",
              "      <td>1</td>\n",
              "      <td>EXAM: CHEST RADIOGRAPHY EXAM DATE: 05/23/2020 ...</td>\n",
              "      <td>FINDINGS: Lungs/Pleura: No focal opacities evi...</td>\n",
              "      <td>CLINICAL HISTORY: CHEST PAIN. \\n\\n</td>\n",
              "      <td>EXAM: CHEST RADIOGRAPHY EXAM DATE: 05/23/2020 ...</td>\n",
              "      <td>IMPRESSION: No acute cardiopulmonary abnormali...</td>\n",
              "      <td>chest radiography  date pm  history chest pai...</td>\n",
              "    </tr>\n",
              "    <tr>\n",
              "      <th>2</th>\n",
              "      <td>2</td>\n",
              "      <td>EXAM: CHEST RADIOGRAPHY EXAM DATE: 12/13/2019 ...</td>\n",
              "      <td>FINDINGS: Lungs/Pleura: No focal opacities evi...</td>\n",
              "      <td>CLINICAL HISTORY: CHEST PAIN. \\n\\n</td>\n",
              "      <td>EXAM: CHEST RADIOGRAPHY EXAM DATE: 12/13/2019 ...</td>\n",
              "      <td>IMPRESSION: No acute cardiopulmonary process.</td>\n",
              "      <td>chest radiography  date pm  history chest pai...</td>\n",
              "    </tr>\n",
              "    <tr>\n",
              "      <th>3</th>\n",
              "      <td>3</td>\n",
              "      <td>Exam: - CHEST-PORTABLE History: Chest pain Com...</td>\n",
              "      <td>Findings: Heart size appears normal. Lungs cle...</td>\n",
              "      <td>History: Chest pain \\n\\n</td>\n",
              "      <td>Exam: - CHEST-PORTABLE\\n\\nComparison: None</td>\n",
              "      <td>Impression: Lungs clear</td>\n",
              "      <td>chest portable history chest pain comparison ...</td>\n",
              "    </tr>\n",
              "    <tr>\n",
              "      <th>4</th>\n",
              "      <td>4</td>\n",
              "      <td>EXAM: CHEST RADIOGRAPHY EXAM DATE: 06/17/2021 ...</td>\n",
              "      <td>FINDINGS: Lungs/Pleura: No focal opacities evi...</td>\n",
              "      <td>CLINICAL HISTORY: CHEST PAIN, SHORTNESS OF BRE...</td>\n",
              "      <td>EXAM: CHEST RADIOGRAPHY EXAM DATE: 06/17/2021 ...</td>\n",
              "      <td>IMPRESSION: Normal single view chest.</td>\n",
              "      <td>chest radiography  date pm  history chest pai...</td>\n",
              "    </tr>\n",
              "  </tbody>\n",
              "</table>\n",
              "</div>\n",
              "      <button class=\"colab-df-convert\" onclick=\"convertToInteractive('df-5b8795b9-eec7-4b76-afe7-cc32842da375')\"\n",
              "              title=\"Convert this dataframe to an interactive table.\"\n",
              "              style=\"display:none;\">\n",
              "        \n",
              "  <svg xmlns=\"http://www.w3.org/2000/svg\" height=\"24px\"viewBox=\"0 0 24 24\"\n",
              "       width=\"24px\">\n",
              "    <path d=\"M0 0h24v24H0V0z\" fill=\"none\"/>\n",
              "    <path d=\"M18.56 5.44l.94 2.06.94-2.06 2.06-.94-2.06-.94-.94-2.06-.94 2.06-2.06.94zm-11 1L8.5 8.5l.94-2.06 2.06-.94-2.06-.94L8.5 2.5l-.94 2.06-2.06.94zm10 10l.94 2.06.94-2.06 2.06-.94-2.06-.94-.94-2.06-.94 2.06-2.06.94z\"/><path d=\"M17.41 7.96l-1.37-1.37c-.4-.4-.92-.59-1.43-.59-.52 0-1.04.2-1.43.59L10.3 9.45l-7.72 7.72c-.78.78-.78 2.05 0 2.83L4 21.41c.39.39.9.59 1.41.59.51 0 1.02-.2 1.41-.59l7.78-7.78 2.81-2.81c.8-.78.8-2.07 0-2.86zM5.41 20L4 18.59l7.72-7.72 1.47 1.35L5.41 20z\"/>\n",
              "  </svg>\n",
              "      </button>\n",
              "      \n",
              "  <style>\n",
              "    .colab-df-container {\n",
              "      display:flex;\n",
              "      flex-wrap:wrap;\n",
              "      gap: 12px;\n",
              "    }\n",
              "\n",
              "    .colab-df-convert {\n",
              "      background-color: #E8F0FE;\n",
              "      border: none;\n",
              "      border-radius: 50%;\n",
              "      cursor: pointer;\n",
              "      display: none;\n",
              "      fill: #1967D2;\n",
              "      height: 32px;\n",
              "      padding: 0 0 0 0;\n",
              "      width: 32px;\n",
              "    }\n",
              "\n",
              "    .colab-df-convert:hover {\n",
              "      background-color: #E2EBFA;\n",
              "      box-shadow: 0px 1px 2px rgba(60, 64, 67, 0.3), 0px 1px 3px 1px rgba(60, 64, 67, 0.15);\n",
              "      fill: #174EA6;\n",
              "    }\n",
              "\n",
              "    [theme=dark] .colab-df-convert {\n",
              "      background-color: #3B4455;\n",
              "      fill: #D2E3FC;\n",
              "    }\n",
              "\n",
              "    [theme=dark] .colab-df-convert:hover {\n",
              "      background-color: #434B5C;\n",
              "      box-shadow: 0px 1px 3px 1px rgba(0, 0, 0, 0.15);\n",
              "      filter: drop-shadow(0px 1px 2px rgba(0, 0, 0, 0.3));\n",
              "      fill: #FFFFFF;\n",
              "    }\n",
              "  </style>\n",
              "\n",
              "      <script>\n",
              "        const buttonEl =\n",
              "          document.querySelector('#df-5b8795b9-eec7-4b76-afe7-cc32842da375 button.colab-df-convert');\n",
              "        buttonEl.style.display =\n",
              "          google.colab.kernel.accessAllowed ? 'block' : 'none';\n",
              "\n",
              "        async function convertToInteractive(key) {\n",
              "          const element = document.querySelector('#df-5b8795b9-eec7-4b76-afe7-cc32842da375');\n",
              "          const dataTable =\n",
              "            await google.colab.kernel.invokeFunction('convertToInteractive',\n",
              "                                                     [key], {});\n",
              "          if (!dataTable) return;\n",
              "\n",
              "          const docLinkHtml = 'Like what you see? Visit the ' +\n",
              "            '<a target=\"_blank\" href=https://colab.research.google.com/notebooks/data_table.ipynb>data table notebook</a>'\n",
              "            + ' to learn more about interactive tables.';\n",
              "          element.innerHTML = '';\n",
              "          dataTable['output_type'] = 'display_data';\n",
              "          await google.colab.output.renderOutput(dataTable, element);\n",
              "          const docLink = document.createElement('div');\n",
              "          docLink.innerHTML = docLinkHtml;\n",
              "          element.appendChild(docLink);\n",
              "        }\n",
              "      </script>\n",
              "    </div>\n",
              "  </div>\n",
              "  "
            ]
          },
          "metadata": {},
          "execution_count": 83
        }
      ]
    },
    {
      "cell_type": "code",
      "source": [
        "## Generate the linear Regression model for the word vectors"
      ],
      "metadata": {
        "id": "xk1TV_KHbD2N"
      },
      "execution_count": 67,
      "outputs": []
    },
    {
      "cell_type": "code",
      "source": [
        "def get_sentence_vectors(text):\n",
        "  tokens = text.split()\n",
        "  vectors = []\n",
        "  for token in tokens:\n",
        "    if token in model.wv.index_to_key:\n",
        "      vectors.append(model.wv[token])\n",
        "  if len(vectors) > 0:\n",
        "     return np.mean(vectors, axis=0)\n",
        "  else:\n",
        "    return np.zeros((model.vector_size,))"
      ],
      "metadata": {
        "id": "SclolvcRtmej"
      },
      "execution_count": 85,
      "outputs": []
    },
    {
      "cell_type": "code",
      "source": [
        "corpus = findings + clinicaldata + examname + impression\n",
        "\n",
        "\n",
        "X = np.array([get_sentence_vectors(text) for text in corpus])\n",
        "\n",
        "height = 3800\n",
        "y = pd.DataFrame(0, index=range(height), columns=range(1))\n",
        "y.loc[0:949,\"\"]= 'findings'\n",
        "y.loc[950:1899,\"\"]= 'clinicaldata'\n",
        "y.loc[1900:2849,\"\"]= 'examname'\n",
        "y.loc[2850:3799,\"\"]= 'impression'\n",
        "\n",
        "y.rename(columns = {'':'y'}, inplace = True)\n",
        "y.drop(columns=[0], inplace = True)\n",
        "df_y = pd.DataFrame.from_records(y)\n",
        "\n",
        "\n",
        "print(X)"
      ],
      "metadata": {
        "id": "2bfHCe-dt4hG",
        "colab": {
          "base_uri": "https://localhost:8080/"
        },
        "outputId": "f057308f-a0f4-4e8e-e819-460407badef1"
      },
      "execution_count": 111,
      "outputs": [
        {
          "output_type": "stream",
          "name": "stdout",
          "text": [
            "[[ 0.04562467 -0.00810951  0.3368679  ...  0.14255065  0.0336984\n",
            "  -0.09223176]\n",
            " [ 0.05546605 -0.00719061  0.29127741 ...  0.09714615  0.01817156\n",
            "  -0.06241086]\n",
            " [ 0.04562467 -0.00810951  0.3368679  ...  0.14255065  0.0336984\n",
            "  -0.09223176]\n",
            " ...\n",
            " [ 0.05392231 -0.03031723  0.26179266 ...  0.07385112  0.04904465\n",
            "  -0.09353912]\n",
            " [ 0.17740935  0.09416377  0.06656057 ... -0.26474443 -0.01660539\n",
            "  -0.04566934]\n",
            " [ 0.11626275  0.03108398  0.11121266 ... -0.07483193 -0.0092175\n",
            "  -0.04749355]]\n"
          ]
        }
      ]
    },
    {
      "cell_type": "code",
      "source": [
        "df_y = pd.DataFrame.from_records(y)"
      ],
      "metadata": {
        "id": "WN5rtKOLM3qx"
      },
      "execution_count": 112,
      "outputs": []
    },
    {
      "cell_type": "code",
      "source": [
        "df_X = pd.DataFrame (corpus, columns = ['X'])\n",
        "\n",
        "df_all = pd.concat([df_X, y], axis=1)\n",
        "\n",
        "msk = np.random.rand(len(df_all)) < 0.66\n",
        "\n",
        "train = df_all[msk]\n",
        "\n",
        "test = df_all[~msk]\n",
        "\n",
        "train.describe()\n",
        "\n",
        "test.describe()\n",
        "\n",
        "train_text = train['X']\n",
        "\n",
        "train.shape\n",
        "\n",
        "test_text = test['X']\n",
        "test.shape\n",
        "\n",
        "#y = train['y']\n",
        "\n",
        "all_text = pd.concat([train_text, test_text])\n",
        "\n",
        "train_text = train['X']\n",
        "\n",
        "train.shape\n",
        "\n",
        "test_text = test['X']\n",
        "test.shape\n",
        "\n",
        "train_y = train['y']\n",
        "\n",
        "all_text = pd.concat([train_text, test_text])"
      ],
      "metadata": {
        "id": "n1MglnZ6ZYPw"
      },
      "execution_count": 113,
      "outputs": []
    },
    {
      "cell_type": "code",
      "source": [
        "X_train, X_test, y_train, y_test = train_test_split(train_text, train_y,test_size=0.3 ,random_state=1234)"
      ],
      "metadata": {
        "id": "EgNKIUB5v8xp"
      },
      "execution_count": 105,
      "outputs": []
    },
    {
      "cell_type": "code",
      "source": [
        "X_train, X_test, y_train, y_test = train_test_split(X, y,test_size=0.3 ,random_state=1234)"
      ],
      "metadata": {
        "id": "0SJN2hwzxN5m"
      },
      "execution_count": 114,
      "outputs": []
    },
    {
      "cell_type": "code",
      "source": [
        "lr_model = LogisticRegression(random_state=1234)\n",
        "param_dict = {'C': [0.001, 0.01, 0.1, 1, 10],\n",
        "             'solver': ['sag', 'lbfgs', 'saga']}\n",
        "\n",
        "start = time()\n",
        "grid_search = GridSearchCV(lr_model, param_dict)\n",
        "\n",
        "grid_search.fit(X_train, y_train.astype(str))\n",
        "print(\"GridSearch took %.2f seconds to complete.\" % (time()-start))\n",
        "display(grid_search.best_params_)\n",
        "print(\"Cross-Validated Score of the Best Estimator: %.3f\" % grid_search.best_score_)"
      ],
      "metadata": {
        "colab": {
          "base_uri": "https://localhost:8080/",
          "height": 71
        },
        "id": "_j5kez8xENXR",
        "outputId": "fc5a6d20-6c34-49f6-d3e4-a815cab91e12"
      },
      "execution_count": 115,
      "outputs": [
        {
          "output_type": "stream",
          "name": "stdout",
          "text": [
            "GridSearch took 186.67 seconds to complete.\n"
          ]
        },
        {
          "output_type": "display_data",
          "data": {
            "text/plain": [
              "{'C': 10, 'solver': 'lbfgs'}"
            ]
          },
          "metadata": {}
        },
        {
          "output_type": "stream",
          "name": "stdout",
          "text": [
            "Cross-Validated Score of the Best Estimator: 0.851\n"
          ]
        }
      ]
    },
    {
      "cell_type": "code",
      "source": [
        "lr=LogisticRegression(C=1, solver ='saga')\n",
        "lr.fit(X_train, y_train)\n",
        "lr_preds=lr.predict(X_test)\n",
        "\n",
        "print('confustion matrix:', '\\n', 'fin. cli. exa. imp.', '\\n', confusion_matrix(y_test, lr_preds, labels=[\"findings\", \"clinicaldata\", \"examname\", \"impression\"]), '\\n\\n')\n",
        "\n",
        "print('classification report:', '\\n', classification_report(y_test, lr_preds), '\\n\\n')\n",
        "\n",
        "print(\"Accuracy Score: %.3f\" % accuracy_score(y_test, lr_preds))"
      ],
      "metadata": {
        "colab": {
          "base_uri": "https://localhost:8080/",
          "height": 425
        },
        "id": "a9-Q8i3PEOUF",
        "outputId": "4ba20c8b-26a4-4d34-bd4f-a0a2dbe668a7"
      },
      "execution_count": 107,
      "outputs": [
        {
          "output_type": "error",
          "ename": "ValueError",
          "evalue": "ignored",
          "traceback": [
            "\u001b[0;31m---------------------------------------------------------------------------\u001b[0m",
            "\u001b[0;31mValueError\u001b[0m                                Traceback (most recent call last)",
            "\u001b[0;32m<ipython-input-107-dead49a71b44>\u001b[0m in \u001b[0;36m<module>\u001b[0;34m\u001b[0m\n\u001b[1;32m      1\u001b[0m \u001b[0mlr\u001b[0m\u001b[0;34m=\u001b[0m\u001b[0mLogisticRegression\u001b[0m\u001b[0;34m(\u001b[0m\u001b[0mC\u001b[0m\u001b[0;34m=\u001b[0m\u001b[0;36m1\u001b[0m\u001b[0;34m,\u001b[0m \u001b[0msolver\u001b[0m \u001b[0;34m=\u001b[0m\u001b[0;34m'saga'\u001b[0m\u001b[0;34m)\u001b[0m\u001b[0;34m\u001b[0m\u001b[0;34m\u001b[0m\u001b[0m\n\u001b[0;32m----> 2\u001b[0;31m \u001b[0mlr\u001b[0m\u001b[0;34m.\u001b[0m\u001b[0mfit\u001b[0m\u001b[0;34m(\u001b[0m\u001b[0mX_train\u001b[0m\u001b[0;34m,\u001b[0m \u001b[0my_train\u001b[0m\u001b[0;34m)\u001b[0m\u001b[0;34m\u001b[0m\u001b[0;34m\u001b[0m\u001b[0m\n\u001b[0m\u001b[1;32m      3\u001b[0m \u001b[0mlr_preds\u001b[0m\u001b[0;34m=\u001b[0m\u001b[0mlr\u001b[0m\u001b[0;34m.\u001b[0m\u001b[0mpredict\u001b[0m\u001b[0;34m(\u001b[0m\u001b[0mX_test\u001b[0m\u001b[0;34m)\u001b[0m\u001b[0;34m\u001b[0m\u001b[0;34m\u001b[0m\u001b[0m\n\u001b[1;32m      4\u001b[0m \u001b[0;34m\u001b[0m\u001b[0m\n\u001b[1;32m      5\u001b[0m \u001b[0mprint\u001b[0m\u001b[0;34m(\u001b[0m\u001b[0;34m'confustion matrix:'\u001b[0m\u001b[0;34m,\u001b[0m \u001b[0;34m'\\n'\u001b[0m\u001b[0;34m,\u001b[0m \u001b[0;34m'fin. cli. exa. imp.'\u001b[0m\u001b[0;34m,\u001b[0m \u001b[0;34m'\\n'\u001b[0m\u001b[0;34m,\u001b[0m \u001b[0mconfusion_matrix\u001b[0m\u001b[0;34m(\u001b[0m\u001b[0my_test\u001b[0m\u001b[0;34m,\u001b[0m \u001b[0mlr_preds\u001b[0m\u001b[0;34m,\u001b[0m \u001b[0mlabels\u001b[0m\u001b[0;34m=\u001b[0m\u001b[0;34m[\u001b[0m\u001b[0;34m\"findings\"\u001b[0m\u001b[0;34m,\u001b[0m \u001b[0;34m\"clinicaldata\"\u001b[0m\u001b[0;34m,\u001b[0m \u001b[0;34m\"examname\"\u001b[0m\u001b[0;34m,\u001b[0m \u001b[0;34m\"impression\"\u001b[0m\u001b[0;34m]\u001b[0m\u001b[0;34m)\u001b[0m\u001b[0;34m,\u001b[0m \u001b[0;34m'\\n\\n'\u001b[0m\u001b[0;34m)\u001b[0m\u001b[0;34m\u001b[0m\u001b[0;34m\u001b[0m\u001b[0m\n",
            "\u001b[0;32m/usr/local/lib/python3.9/dist-packages/sklearn/linear_model/_logistic.py\u001b[0m in \u001b[0;36mfit\u001b[0;34m(self, X, y, sample_weight)\u001b[0m\n\u001b[1;32m   1194\u001b[0m             \u001b[0m_dtype\u001b[0m \u001b[0;34m=\u001b[0m \u001b[0;34m[\u001b[0m\u001b[0mnp\u001b[0m\u001b[0;34m.\u001b[0m\u001b[0mfloat64\u001b[0m\u001b[0;34m,\u001b[0m \u001b[0mnp\u001b[0m\u001b[0;34m.\u001b[0m\u001b[0mfloat32\u001b[0m\u001b[0;34m]\u001b[0m\u001b[0;34m\u001b[0m\u001b[0;34m\u001b[0m\u001b[0m\n\u001b[1;32m   1195\u001b[0m \u001b[0;34m\u001b[0m\u001b[0m\n\u001b[0;32m-> 1196\u001b[0;31m         X, y = self._validate_data(\n\u001b[0m\u001b[1;32m   1197\u001b[0m             \u001b[0mX\u001b[0m\u001b[0;34m,\u001b[0m\u001b[0;34m\u001b[0m\u001b[0;34m\u001b[0m\u001b[0m\n\u001b[1;32m   1198\u001b[0m             \u001b[0my\u001b[0m\u001b[0;34m,\u001b[0m\u001b[0;34m\u001b[0m\u001b[0;34m\u001b[0m\u001b[0m\n",
            "\u001b[0;32m/usr/local/lib/python3.9/dist-packages/sklearn/base.py\u001b[0m in \u001b[0;36m_validate_data\u001b[0;34m(self, X, y, reset, validate_separately, **check_params)\u001b[0m\n\u001b[1;32m    582\u001b[0m                 \u001b[0my\u001b[0m \u001b[0;34m=\u001b[0m \u001b[0mcheck_array\u001b[0m\u001b[0;34m(\u001b[0m\u001b[0my\u001b[0m\u001b[0;34m,\u001b[0m \u001b[0minput_name\u001b[0m\u001b[0;34m=\u001b[0m\u001b[0;34m\"y\"\u001b[0m\u001b[0;34m,\u001b[0m \u001b[0;34m**\u001b[0m\u001b[0mcheck_y_params\u001b[0m\u001b[0;34m)\u001b[0m\u001b[0;34m\u001b[0m\u001b[0;34m\u001b[0m\u001b[0m\n\u001b[1;32m    583\u001b[0m             \u001b[0;32melse\u001b[0m\u001b[0;34m:\u001b[0m\u001b[0;34m\u001b[0m\u001b[0;34m\u001b[0m\u001b[0m\n\u001b[0;32m--> 584\u001b[0;31m                 \u001b[0mX\u001b[0m\u001b[0;34m,\u001b[0m \u001b[0my\u001b[0m \u001b[0;34m=\u001b[0m \u001b[0mcheck_X_y\u001b[0m\u001b[0;34m(\u001b[0m\u001b[0mX\u001b[0m\u001b[0;34m,\u001b[0m \u001b[0my\u001b[0m\u001b[0;34m,\u001b[0m \u001b[0;34m**\u001b[0m\u001b[0mcheck_params\u001b[0m\u001b[0;34m)\u001b[0m\u001b[0;34m\u001b[0m\u001b[0;34m\u001b[0m\u001b[0m\n\u001b[0m\u001b[1;32m    585\u001b[0m             \u001b[0mout\u001b[0m \u001b[0;34m=\u001b[0m \u001b[0mX\u001b[0m\u001b[0;34m,\u001b[0m \u001b[0my\u001b[0m\u001b[0;34m\u001b[0m\u001b[0;34m\u001b[0m\u001b[0m\n\u001b[1;32m    586\u001b[0m \u001b[0;34m\u001b[0m\u001b[0m\n",
            "\u001b[0;32m/usr/local/lib/python3.9/dist-packages/sklearn/utils/validation.py\u001b[0m in \u001b[0;36mcheck_X_y\u001b[0;34m(X, y, accept_sparse, accept_large_sparse, dtype, order, copy, force_all_finite, ensure_2d, allow_nd, multi_output, ensure_min_samples, ensure_min_features, y_numeric, estimator)\u001b[0m\n\u001b[1;32m   1104\u001b[0m         )\n\u001b[1;32m   1105\u001b[0m \u001b[0;34m\u001b[0m\u001b[0m\n\u001b[0;32m-> 1106\u001b[0;31m     X = check_array(\n\u001b[0m\u001b[1;32m   1107\u001b[0m         \u001b[0mX\u001b[0m\u001b[0;34m,\u001b[0m\u001b[0;34m\u001b[0m\u001b[0;34m\u001b[0m\u001b[0m\n\u001b[1;32m   1108\u001b[0m         \u001b[0maccept_sparse\u001b[0m\u001b[0;34m=\u001b[0m\u001b[0maccept_sparse\u001b[0m\u001b[0;34m,\u001b[0m\u001b[0;34m\u001b[0m\u001b[0;34m\u001b[0m\u001b[0m\n",
            "\u001b[0;32m/usr/local/lib/python3.9/dist-packages/sklearn/utils/validation.py\u001b[0m in \u001b[0;36mcheck_array\u001b[0;34m(array, accept_sparse, accept_large_sparse, dtype, order, copy, force_all_finite, ensure_2d, allow_nd, ensure_min_samples, ensure_min_features, estimator, input_name)\u001b[0m\n\u001b[1;32m    877\u001b[0m                     \u001b[0marray\u001b[0m \u001b[0;34m=\u001b[0m \u001b[0mxp\u001b[0m\u001b[0;34m.\u001b[0m\u001b[0mastype\u001b[0m\u001b[0;34m(\u001b[0m\u001b[0marray\u001b[0m\u001b[0;34m,\u001b[0m \u001b[0mdtype\u001b[0m\u001b[0;34m,\u001b[0m \u001b[0mcopy\u001b[0m\u001b[0;34m=\u001b[0m\u001b[0;32mFalse\u001b[0m\u001b[0;34m)\u001b[0m\u001b[0;34m\u001b[0m\u001b[0;34m\u001b[0m\u001b[0m\n\u001b[1;32m    878\u001b[0m                 \u001b[0;32melse\u001b[0m\u001b[0;34m:\u001b[0m\u001b[0;34m\u001b[0m\u001b[0;34m\u001b[0m\u001b[0m\n\u001b[0;32m--> 879\u001b[0;31m                     \u001b[0marray\u001b[0m \u001b[0;34m=\u001b[0m \u001b[0m_asarray_with_order\u001b[0m\u001b[0;34m(\u001b[0m\u001b[0marray\u001b[0m\u001b[0;34m,\u001b[0m \u001b[0morder\u001b[0m\u001b[0;34m=\u001b[0m\u001b[0morder\u001b[0m\u001b[0;34m,\u001b[0m \u001b[0mdtype\u001b[0m\u001b[0;34m=\u001b[0m\u001b[0mdtype\u001b[0m\u001b[0;34m,\u001b[0m \u001b[0mxp\u001b[0m\u001b[0;34m=\u001b[0m\u001b[0mxp\u001b[0m\u001b[0;34m)\u001b[0m\u001b[0;34m\u001b[0m\u001b[0;34m\u001b[0m\u001b[0m\n\u001b[0m\u001b[1;32m    880\u001b[0m             \u001b[0;32mexcept\u001b[0m \u001b[0mComplexWarning\u001b[0m \u001b[0;32mas\u001b[0m \u001b[0mcomplex_warning\u001b[0m\u001b[0;34m:\u001b[0m\u001b[0;34m\u001b[0m\u001b[0;34m\u001b[0m\u001b[0m\n\u001b[1;32m    881\u001b[0m                 raise ValueError(\n",
            "\u001b[0;32m/usr/local/lib/python3.9/dist-packages/sklearn/utils/_array_api.py\u001b[0m in \u001b[0;36m_asarray_with_order\u001b[0;34m(array, dtype, order, copy, xp)\u001b[0m\n\u001b[1;32m    183\u001b[0m     \u001b[0;32mif\u001b[0m \u001b[0mxp\u001b[0m\u001b[0;34m.\u001b[0m\u001b[0m__name__\u001b[0m \u001b[0;32min\u001b[0m \u001b[0;34m{\u001b[0m\u001b[0;34m\"numpy\"\u001b[0m\u001b[0;34m,\u001b[0m \u001b[0;34m\"numpy.array_api\"\u001b[0m\u001b[0;34m}\u001b[0m\u001b[0;34m:\u001b[0m\u001b[0;34m\u001b[0m\u001b[0;34m\u001b[0m\u001b[0m\n\u001b[1;32m    184\u001b[0m         \u001b[0;31m# Use NumPy API to support order\u001b[0m\u001b[0;34m\u001b[0m\u001b[0;34m\u001b[0m\u001b[0m\n\u001b[0;32m--> 185\u001b[0;31m         \u001b[0marray\u001b[0m \u001b[0;34m=\u001b[0m \u001b[0mnumpy\u001b[0m\u001b[0;34m.\u001b[0m\u001b[0masarray\u001b[0m\u001b[0;34m(\u001b[0m\u001b[0marray\u001b[0m\u001b[0;34m,\u001b[0m \u001b[0morder\u001b[0m\u001b[0;34m=\u001b[0m\u001b[0morder\u001b[0m\u001b[0;34m,\u001b[0m \u001b[0mdtype\u001b[0m\u001b[0;34m=\u001b[0m\u001b[0mdtype\u001b[0m\u001b[0;34m)\u001b[0m\u001b[0;34m\u001b[0m\u001b[0;34m\u001b[0m\u001b[0m\n\u001b[0m\u001b[1;32m    186\u001b[0m         \u001b[0;32mreturn\u001b[0m \u001b[0mxp\u001b[0m\u001b[0;34m.\u001b[0m\u001b[0masarray\u001b[0m\u001b[0;34m(\u001b[0m\u001b[0marray\u001b[0m\u001b[0;34m,\u001b[0m \u001b[0mcopy\u001b[0m\u001b[0;34m=\u001b[0m\u001b[0mcopy\u001b[0m\u001b[0;34m)\u001b[0m\u001b[0;34m\u001b[0m\u001b[0;34m\u001b[0m\u001b[0m\n\u001b[1;32m    187\u001b[0m     \u001b[0;32melse\u001b[0m\u001b[0;34m:\u001b[0m\u001b[0;34m\u001b[0m\u001b[0;34m\u001b[0m\u001b[0m\n",
            "\u001b[0;32m/usr/local/lib/python3.9/dist-packages/pandas/core/series.py\u001b[0m in \u001b[0;36m__array__\u001b[0;34m(self, dtype)\u001b[0m\n\u001b[1;32m    870\u001b[0m               dtype='datetime64[ns]')\n\u001b[1;32m    871\u001b[0m         \"\"\"\n\u001b[0;32m--> 872\u001b[0;31m         \u001b[0;32mreturn\u001b[0m \u001b[0mnp\u001b[0m\u001b[0;34m.\u001b[0m\u001b[0masarray\u001b[0m\u001b[0;34m(\u001b[0m\u001b[0mself\u001b[0m\u001b[0;34m.\u001b[0m\u001b[0m_values\u001b[0m\u001b[0;34m,\u001b[0m \u001b[0mdtype\u001b[0m\u001b[0;34m)\u001b[0m\u001b[0;34m\u001b[0m\u001b[0;34m\u001b[0m\u001b[0m\n\u001b[0m\u001b[1;32m    873\u001b[0m \u001b[0;34m\u001b[0m\u001b[0m\n\u001b[1;32m    874\u001b[0m     \u001b[0;31m# ----------------------------------------------------------------------\u001b[0m\u001b[0;34m\u001b[0m\u001b[0;34m\u001b[0m\u001b[0m\n",
            "\u001b[0;31mValueError\u001b[0m: could not convert string to float: ': xr chest 1 view date: 03/14/2018 12:00 am\\n\\ntechnique: single frontal view(s) of the chest is/are submitted.\\n\\ncomparison: 03/13/2018 at approximately 12:11 pm'"
          ]
        }
      ]
    },
    {
      "cell_type": "code",
      "source": [
        "cm = confusion_matrix(y_test, lr_preds, labels=lr.classes_)\n",
        "disp = ConfusionMatrixDisplay(confusion_matrix=cm, display_labels=lr.classes_)\n",
        "plt.figure(figsize=(10, 10))\n",
        "disp.plot(cmap='inferno', xticks_rotation='vertical')\n",
        "plt.title('Confusion matrix of radiology report data')\n",
        "plt.show()"
      ],
      "metadata": {
        "colab": {
          "base_uri": "https://localhost:8080/",
          "height": 361
        },
        "id": "uBhOACnDc3WS",
        "outputId": "e94258f7-afe4-46cd-b840-a02c83ac9cf4"
      },
      "execution_count": 92,
      "outputs": [
        {
          "output_type": "display_data",
          "data": {
            "text/plain": [
              "<Figure size 720x720 with 0 Axes>"
            ]
          },
          "metadata": {}
        },
        {
          "output_type": "display_data",
          "data": {
            "text/plain": [
              "<Figure size 432x288 with 2 Axes>"
            ],
            "image/png": "[encoded data removed]"
          },
          "metadata": {
            "needs_background": "light"
          }
        }
      ]
    }
  ],
  "metadata": {
    "colab": {
      "provenance": [],
      "include_colab_link": true
    },
    "kernelspec": {
      "display_name": "Python 3",
      "name": "python3"
    },
    "language_info": {
      "name": "python"
    }
  },
  "nbformat": 4,
  "nbformat_minor": 0
}